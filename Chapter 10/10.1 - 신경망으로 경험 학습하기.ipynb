{
  "nbformat": 4,
  "nbformat_minor": 0,
  "metadata": {
    "colab": {
      "name": "10.1 - 신경망으로 경험 학습하기",
      "provenance": [],
      "collapsed_sections": []
    },
    "kernelspec": {
      "name": "python3",
      "display_name": "Python 3"
    },
    "accelerator": "GPU"
  },
  "cells": [
    {
      "cell_type": "code",
      "metadata": {
        "id": "7nZjqinoTgZ-",
        "colab_type": "code",
        "colab": {}
      },
      "source": [
        "# 예제 10.1 - MountainCar-v0 환경 만들기\n",
        "import gym\n",
        "import random\n",
        "env = gym.make('MountainCar-v0')"
      ],
      "execution_count": 0,
      "outputs": []
    },
    {
      "cell_type": "code",
      "metadata": {
        "id": "Rz3JagR_V0hU",
        "colab_type": "code",
        "outputId": "b5681054-837d-477e-ad05-49d7d22c7f88",
        "colab": {
          "base_uri": "https://localhost:8080/",
          "height": 136
        }
      },
      "source": [
        "# 예제 10.2 - 환경의 관찰 공간, 행동 공간 변수 확인\n",
        "print(env.observation_space)\n",
        "print(env.observation_space.low)\n",
        "print(env.observation_space.high)\n",
        "print()\n",
        "print(env.action_space)\n",
        "print()\n",
        "print(env._max_episode_steps)"
      ],
      "execution_count": 9,
      "outputs": [
        {
          "output_type": "stream",
          "text": [
            "Box(2,)\n",
            "[-1.2  -0.07]\n",
            "[0.6  0.07]\n",
            "\n",
            "Discrete(3)\n",
            "\n",
            "200\n"
          ],
          "name": "stdout"
        }
      ]
    },
    {
      "cell_type": "code",
      "metadata": {
        "id": "jKzNjnaIWFua",
        "colab_type": "code",
        "outputId": "970bde8b-1cfc-449a-f055-246fe688e786",
        "colab": {
          "base_uri": "https://localhost:8080/",
          "height": 1000
        }
      },
      "source": [
        "# 예제 10.3 - 랜덤한 행동을 하는 에이전트 실행\n",
        "step = 0\n",
        "score = 0\n",
        "env.reset()\n",
        "\n",
        "while True:\n",
        "  action = env.action_space.sample()\n",
        "  obs, reward, done, info = env.step(action)\n",
        "  print(score)\n",
        "  score += reward\n",
        "  step += 1\n",
        "\n",
        "  if done:\n",
        "    break\n",
        "\n",
        "print('score :', score)\n",
        "print('step :', step)"
      ],
      "execution_count": 0,
      "outputs": [
        {
          "output_type": "stream",
          "text": [
            "0\n",
            "-1.0\n",
            "-2.0\n",
            "-3.0\n",
            "-4.0\n",
            "-5.0\n",
            "-6.0\n",
            "-7.0\n",
            "-8.0\n",
            "-9.0\n",
            "-10.0\n",
            "-11.0\n",
            "-12.0\n",
            "-13.0\n",
            "-14.0\n",
            "-15.0\n",
            "-16.0\n",
            "-17.0\n",
            "-18.0\n",
            "-19.0\n",
            "-20.0\n",
            "-21.0\n",
            "-22.0\n",
            "-23.0\n",
            "-24.0\n",
            "-25.0\n",
            "-26.0\n",
            "-27.0\n",
            "-28.0\n",
            "-29.0\n",
            "-30.0\n",
            "-31.0\n",
            "-32.0\n",
            "-33.0\n",
            "-34.0\n",
            "-35.0\n",
            "-36.0\n",
            "-37.0\n",
            "-38.0\n",
            "-39.0\n",
            "-40.0\n",
            "-41.0\n",
            "-42.0\n",
            "-43.0\n",
            "-44.0\n",
            "-45.0\n",
            "-46.0\n",
            "-47.0\n",
            "-48.0\n",
            "-49.0\n",
            "-50.0\n",
            "-51.0\n",
            "-52.0\n",
            "-53.0\n",
            "-54.0\n",
            "-55.0\n",
            "-56.0\n",
            "-57.0\n",
            "-58.0\n",
            "-59.0\n",
            "-60.0\n",
            "-61.0\n",
            "-62.0\n",
            "-63.0\n",
            "-64.0\n",
            "-65.0\n",
            "-66.0\n",
            "-67.0\n",
            "-68.0\n",
            "-69.0\n",
            "-70.0\n",
            "-71.0\n",
            "-72.0\n",
            "-73.0\n",
            "-74.0\n",
            "-75.0\n",
            "-76.0\n",
            "-77.0\n",
            "-78.0\n",
            "-79.0\n",
            "-80.0\n",
            "-81.0\n",
            "-82.0\n",
            "-83.0\n",
            "-84.0\n",
            "-85.0\n",
            "-86.0\n",
            "-87.0\n",
            "-88.0\n",
            "-89.0\n",
            "-90.0\n",
            "-91.0\n",
            "-92.0\n",
            "-93.0\n",
            "-94.0\n",
            "-95.0\n",
            "-96.0\n",
            "-97.0\n",
            "-98.0\n",
            "-99.0\n",
            "-100.0\n",
            "-101.0\n",
            "-102.0\n",
            "-103.0\n",
            "-104.0\n",
            "-105.0\n",
            "-106.0\n",
            "-107.0\n",
            "-108.0\n",
            "-109.0\n",
            "-110.0\n",
            "-111.0\n",
            "-112.0\n",
            "-113.0\n",
            "-114.0\n",
            "-115.0\n",
            "-116.0\n",
            "-117.0\n",
            "-118.0\n",
            "-119.0\n",
            "-120.0\n",
            "-121.0\n",
            "-122.0\n",
            "-123.0\n",
            "-124.0\n",
            "-125.0\n",
            "-126.0\n",
            "-127.0\n",
            "-128.0\n",
            "-129.0\n",
            "-130.0\n",
            "-131.0\n",
            "-132.0\n",
            "-133.0\n",
            "-134.0\n",
            "-135.0\n",
            "-136.0\n",
            "-137.0\n",
            "-138.0\n",
            "-139.0\n",
            "-140.0\n",
            "-141.0\n",
            "-142.0\n",
            "-143.0\n",
            "-144.0\n",
            "-145.0\n",
            "-146.0\n",
            "-147.0\n",
            "-148.0\n",
            "-149.0\n",
            "-150.0\n",
            "-151.0\n",
            "-152.0\n",
            "-153.0\n",
            "-154.0\n",
            "-155.0\n",
            "-156.0\n",
            "-157.0\n",
            "-158.0\n",
            "-159.0\n",
            "-160.0\n",
            "-161.0\n",
            "-162.0\n",
            "-163.0\n",
            "-164.0\n",
            "-165.0\n",
            "-166.0\n",
            "-167.0\n",
            "-168.0\n",
            "-169.0\n",
            "-170.0\n",
            "-171.0\n",
            "-172.0\n",
            "-173.0\n",
            "-174.0\n",
            "-175.0\n",
            "-176.0\n",
            "-177.0\n",
            "-178.0\n",
            "-179.0\n",
            "-180.0\n",
            "-181.0\n",
            "-182.0\n",
            "-183.0\n",
            "-184.0\n",
            "-185.0\n",
            "-186.0\n",
            "-187.0\n",
            "-188.0\n",
            "-189.0\n",
            "-190.0\n",
            "-191.0\n",
            "-192.0\n",
            "-193.0\n",
            "-194.0\n",
            "-195.0\n",
            "-196.0\n",
            "-197.0\n",
            "-198.0\n",
            "-199.0\n",
            "score : -200.0\n",
            "step : 200\n"
          ],
          "name": "stdout"
        }
      ]
    },
    {
      "cell_type": "code",
      "metadata": {
        "id": "tQ00Ni5AXOT8",
        "colab_type": "code",
        "colab": {}
      },
      "source": [
        "# 예제 10.4 - 랜덤 행동 에이전트의 환경 실행 결과 확인\n",
        "env = wrap_env(gym.make('MountainCar-v0'))\n",
        "env.reset()\n",
        "\n",
        "score = 0\n",
        "step = 0\n",
        "\n",
        "while True:\n",
        "  action = env.action_space.sample()\n",
        "  obs, reward, done, info = env.step(action)\n",
        "  score += reward\n",
        "  step += 1\n",
        "\n",
        "  if done:\n",
        "    break\n",
        "\n",
        "print('score :', score)\n",
        "print('step :', step)\n",
        "env.close()\n",
        "show_video()"
      ],
      "execution_count": 0,
      "outputs": []
    },
    {
      "cell_type": "code",
      "metadata": {
        "id": "cMwAlrIVYHw6",
        "colab_type": "code",
        "colab": {
          "base_uri": "https://localhost:8080/",
          "height": 1000
        },
        "outputId": "bd2ca703-b2f0-43ea-8c25-73b8f76ffcbf"
      },
      "source": [
        "# 예제 10.5 - 성공적인 에피소드 저장\n",
        "import numpy as np\n",
        "\n",
        "env = gym.make('MountainCar-v0')\n",
        "\n",
        "scores = []\n",
        "training_data = []\n",
        "accepted_scores = []\n",
        "required_score = -198\n",
        "\n",
        "for i in range(10000):\n",
        "  if i % 100 == 0:\n",
        "    print(i)\n",
        "  \n",
        "  env.reset()\n",
        "  score = 0\n",
        "  game_memory = []\n",
        "  previous_obs = []\n",
        "\n",
        "  while True:\n",
        "    action = env.action_space.sample()\n",
        "    obs, reward, done, info = env.step(action)\n",
        "\n",
        "    if len(previous_obs) > 0:\n",
        "      game_memory.append([previous_obs, action])\n",
        "    \n",
        "    previous_obs = obs\n",
        "    if obs[0] > -0.2:\n",
        "      reward = 1\n",
        "\n",
        "    score += reward\n",
        "\n",
        "    if done:\n",
        "      break\n",
        "\n",
        "  scores.append(score)\n",
        "  if score > required_score:\n",
        "    accepted_scores.append(score)\n",
        "    for data in game_memory:\n",
        "      training_data.append(data)\n",
        "\n",
        "scores = np.array(scores)\n",
        "print(scores.mean())\n",
        "print(accepted_scores)\n",
        "\n",
        "import seaborn as sns\n",
        "sns.distplot(scores, rug = True)"
      ],
      "execution_count": 10,
      "outputs": [
        {
          "output_type": "stream",
          "text": [
            "0\n",
            "100\n",
            "200\n",
            "300\n",
            "400\n",
            "500\n",
            "600\n",
            "700\n",
            "800\n",
            "900\n",
            "1000\n",
            "1100\n",
            "1200\n",
            "1300\n",
            "1400\n",
            "1500\n",
            "1600\n",
            "1700\n",
            "1800\n",
            "1900\n",
            "2000\n",
            "2100\n",
            "2200\n",
            "2300\n",
            "2400\n",
            "2500\n",
            "2600\n",
            "2700\n",
            "2800\n",
            "2900\n",
            "3000\n",
            "3100\n",
            "3200\n",
            "3300\n",
            "3400\n",
            "3500\n",
            "3600\n",
            "3700\n",
            "3800\n",
            "3900\n",
            "4000\n",
            "4100\n",
            "4200\n",
            "4300\n",
            "4400\n",
            "4500\n",
            "4600\n",
            "4700\n",
            "4800\n",
            "4900\n",
            "5000\n",
            "5100\n",
            "5200\n",
            "5300\n",
            "5400\n",
            "5500\n",
            "5600\n",
            "5700\n",
            "5800\n",
            "5900\n",
            "6000\n",
            "6100\n",
            "6200\n",
            "6300\n",
            "6400\n",
            "6500\n",
            "6600\n",
            "6700\n",
            "6800\n",
            "6900\n",
            "7000\n",
            "7100\n",
            "7200\n",
            "7300\n",
            "7400\n",
            "7500\n",
            "7600\n",
            "7700\n",
            "7800\n",
            "7900\n",
            "8000\n",
            "8100\n",
            "8200\n",
            "8300\n",
            "8400\n",
            "8500\n",
            "8600\n",
            "8700\n",
            "8800\n",
            "8900\n",
            "9000\n",
            "9100\n",
            "9200\n",
            "9300\n",
            "9400\n",
            "9500\n",
            "9600\n",
            "9700\n",
            "9800\n",
            "9900\n",
            "-199.929\n",
            "[-188.0, -182.0, -176.0, -180.0, -156.0, -166.0, -196.0, -192.0, -186.0, -170.0, -196.0, -176.0, -178.0, -158.0, -178.0, -184.0, -178.0, -188.0, -176.0, -180.0, -188.0, -176.0, -176.0, -178.0, -172.0, -168.0, -180.0, -194.0, -184.0, -182.0, -176.0, -188.0, -176.0, -170.0]\n"
          ],
          "name": "stdout"
        },
        {
          "output_type": "stream",
          "text": [
            "/usr/local/lib/python3.6/dist-packages/statsmodels/tools/_testing.py:19: FutureWarning: pandas.util.testing is deprecated. Use the functions in the public API at pandas.testing instead.\n",
            "  import pandas.util.testing as tm\n"
          ],
          "name": "stderr"
        },
        {
          "output_type": "execute_result",
          "data": {
            "text/plain": [
              "<matplotlib.axes._subplots.AxesSubplot at 0x7ff465e44278>"
            ]
          },
          "metadata": {
            "tags": []
          },
          "execution_count": 10
        },
        {
          "output_type": "display_data",
          "data": {
            "image/png": "[encoded data removed]",
            "text/plain": [
              "<Figure size 432x288 with 1 Axes>"
            ]
          },
          "metadata": {
            "tags": [],
            "needs_background": "light"
          }
        }
      ]
    },
    {
      "cell_type": "code",
      "metadata": {
        "id": "zP8D-2c1ZaIK",
        "colab_type": "code",
        "colab": {
          "base_uri": "https://localhost:8080/",
          "height": 102
        },
        "outputId": "939ba7ac-560a-417b-ecd2-b4c7fedfe2bb"
      },
      "source": [
        "# 예제 10.6 - training_data 확인\n",
        "training_data[: 5]"
      ],
      "execution_count": 11,
      "outputs": [
        {
          "output_type": "execute_result",
          "data": {
            "text/plain": [
              "[[array([-0.47126911, -0.00140124]), 1],\n",
              " [array([-0.47306121, -0.0017921 ]), 0],\n",
              " [array([-0.4762309 , -0.00316968]), 1],\n",
              " [array([-0.47975464, -0.00352375]), 2],\n",
              " [array([-0.48260627, -0.00285163]), 0]]"
            ]
          },
          "metadata": {
            "tags": []
          },
          "execution_count": 11
        }
      ]
    },
    {
      "cell_type": "code",
      "metadata": {
        "id": "su1zg9MEaI_n",
        "colab_type": "code",
        "colab": {
          "base_uri": "https://localhost:8080/",
          "height": 51
        },
        "outputId": "544a88ab-11b5-41b7-80bb-84cded897494"
      },
      "source": [
        "# 예제 10.7 - 훈련 데이터 만들기\n",
        "train_X = np.array([i[0] for i in training_data]).reshape(-1, 2)\n",
        "train_Y = np.array([i[1] for i in training_data]).reshape(-1, 1)\n",
        "\n",
        "print(train_X.shape)\n",
        "print(train_Y.shape)"
      ],
      "execution_count": 12,
      "outputs": [
        {
          "output_type": "stream",
          "text": [
            "(6766, 2)\n",
            "(6766, 1)\n"
          ],
          "name": "stdout"
        }
      ]
    },
    {
      "cell_type": "code",
      "metadata": {
        "id": "jqEC0ZQVaX2G",
        "colab_type": "code",
        "colab": {}
      },
      "source": [
        "# 예제 10.8 - 분류 신경망 정의\n",
        "import tensorflow as tf\n",
        "\n",
        "model = tf.keras.Sequential([\n",
        "                             tf.keras.layers.Dense(128, input_shape = (2, ), activation = 'relu'),\n",
        "                             tf.keras.layers.Dense(32, activation = 'relu'),\n",
        "                             tf.keras.layers.Dense(3, activation = 'softmax')\n",
        "])\n",
        "\n",
        "model.compile(optimizer = 'adam', loss = 'sparse_categorical_crossentropy', metrics = ['accuracy'])"
      ],
      "execution_count": 0,
      "outputs": []
    },
    {
      "cell_type": "code",
      "metadata": {
        "id": "nDbtVKNxazlO",
        "colab_type": "code",
        "colab": {
          "base_uri": "https://localhost:8080/",
          "height": 1000
        },
        "outputId": "720f1c23-64f7-4985-8dfa-50f4c5ce1091"
      },
      "source": [
        "# 예제 10.9 - 분류 신경망 학습\n",
        "history = model.fit(train_X, train_Y, epochs = 30, batch_size = 16, validation_split = 0.25)"
      ],
      "execution_count": 14,
      "outputs": [
        {
          "output_type": "stream",
          "text": [
            "Epoch 1/30\n",
            "318/318 [==============================] - 1s 3ms/step - loss: 1.0996 - accuracy: 0.3412 - val_loss: 1.0973 - val_accuracy: 0.3463\n",
            "Epoch 2/30\n",
            "318/318 [==============================] - 1s 3ms/step - loss: 1.0974 - accuracy: 0.3567 - val_loss: 1.0983 - val_accuracy: 0.3706\n",
            "Epoch 3/30\n",
            "318/318 [==============================] - 1s 2ms/step - loss: 1.0968 - accuracy: 0.3616 - val_loss: 1.0938 - val_accuracy: 0.4037\n",
            "Epoch 4/30\n",
            "318/318 [==============================] - 1s 2ms/step - loss: 1.0939 - accuracy: 0.3823 - val_loss: 1.0912 - val_accuracy: 0.3877\n",
            "Epoch 5/30\n",
            "318/318 [==============================] - 1s 2ms/step - loss: 1.0900 - accuracy: 0.3936 - val_loss: 1.0866 - val_accuracy: 0.4019\n",
            "Epoch 6/30\n",
            "318/318 [==============================] - 1s 2ms/step - loss: 1.0872 - accuracy: 0.3971 - val_loss: 1.0851 - val_accuracy: 0.4007\n",
            "Epoch 7/30\n",
            "318/318 [==============================] - 1s 2ms/step - loss: 1.0865 - accuracy: 0.3946 - val_loss: 1.0853 - val_accuracy: 0.4013\n",
            "Epoch 8/30\n",
            "318/318 [==============================] - 1s 2ms/step - loss: 1.0850 - accuracy: 0.3999 - val_loss: 1.0842 - val_accuracy: 0.4001\n",
            "Epoch 9/30\n",
            "318/318 [==============================] - 1s 2ms/step - loss: 1.0860 - accuracy: 0.3959 - val_loss: 1.0833 - val_accuracy: 0.4043\n",
            "Epoch 10/30\n",
            "318/318 [==============================] - 1s 2ms/step - loss: 1.0853 - accuracy: 0.3981 - val_loss: 1.0844 - val_accuracy: 0.4031\n",
            "Epoch 11/30\n",
            "318/318 [==============================] - 1s 2ms/step - loss: 1.0850 - accuracy: 0.4044 - val_loss: 1.0829 - val_accuracy: 0.4060\n",
            "Epoch 12/30\n",
            "318/318 [==============================] - 1s 2ms/step - loss: 1.0841 - accuracy: 0.4038 - val_loss: 1.0829 - val_accuracy: 0.4072\n",
            "Epoch 13/30\n",
            "318/318 [==============================] - 1s 2ms/step - loss: 1.0829 - accuracy: 0.4080 - val_loss: 1.0846 - val_accuracy: 0.3942\n",
            "Epoch 14/30\n",
            "318/318 [==============================] - 1s 2ms/step - loss: 1.0844 - accuracy: 0.4013 - val_loss: 1.0830 - val_accuracy: 0.4013\n",
            "Epoch 15/30\n",
            "318/318 [==============================] - 1s 2ms/step - loss: 1.0843 - accuracy: 0.4042 - val_loss: 1.0823 - val_accuracy: 0.4037\n",
            "Epoch 16/30\n",
            "318/318 [==============================] - 1s 2ms/step - loss: 1.0834 - accuracy: 0.4058 - val_loss: 1.0825 - val_accuracy: 0.4025\n",
            "Epoch 17/30\n",
            "318/318 [==============================] - 1s 2ms/step - loss: 1.0839 - accuracy: 0.4036 - val_loss: 1.0827 - val_accuracy: 0.4043\n",
            "Epoch 18/30\n",
            "318/318 [==============================] - 1s 2ms/step - loss: 1.0830 - accuracy: 0.4068 - val_loss: 1.0822 - val_accuracy: 0.4048\n",
            "Epoch 19/30\n",
            "318/318 [==============================] - 1s 2ms/step - loss: 1.0831 - accuracy: 0.4034 - val_loss: 1.0856 - val_accuracy: 0.3936\n",
            "Epoch 20/30\n",
            "318/318 [==============================] - 1s 2ms/step - loss: 1.0826 - accuracy: 0.4054 - val_loss: 1.0824 - val_accuracy: 0.4007\n",
            "Epoch 21/30\n",
            "318/318 [==============================] - 1s 3ms/step - loss: 1.0823 - accuracy: 0.4060 - val_loss: 1.0849 - val_accuracy: 0.4013\n",
            "Epoch 22/30\n",
            "318/318 [==============================] - 1s 2ms/step - loss: 1.0825 - accuracy: 0.4038 - val_loss: 1.0825 - val_accuracy: 0.4007\n",
            "Epoch 23/30\n",
            "318/318 [==============================] - 1s 2ms/step - loss: 1.0818 - accuracy: 0.4040 - val_loss: 1.0818 - val_accuracy: 0.4090\n",
            "Epoch 24/30\n",
            "318/318 [==============================] - 1s 2ms/step - loss: 1.0825 - accuracy: 0.4076 - val_loss: 1.0811 - val_accuracy: 0.4048\n",
            "Epoch 25/30\n",
            "318/318 [==============================] - 1s 2ms/step - loss: 1.0815 - accuracy: 0.4052 - val_loss: 1.0818 - val_accuracy: 0.4001\n",
            "Epoch 26/30\n",
            "318/318 [==============================] - 1s 2ms/step - loss: 1.0818 - accuracy: 0.4050 - val_loss: 1.0815 - val_accuracy: 0.4084\n",
            "Epoch 27/30\n",
            "318/318 [==============================] - 1s 3ms/step - loss: 1.0811 - accuracy: 0.4088 - val_loss: 1.0802 - val_accuracy: 0.4072\n",
            "Epoch 28/30\n",
            "318/318 [==============================] - 1s 2ms/step - loss: 1.0811 - accuracy: 0.4070 - val_loss: 1.0810 - val_accuracy: 0.4031\n",
            "Epoch 29/30\n",
            "318/318 [==============================] - 1s 2ms/step - loss: 1.0815 - accuracy: 0.4103 - val_loss: 1.0811 - val_accuracy: 0.3989\n",
            "Epoch 30/30\n",
            "318/318 [==============================] - 1s 2ms/step - loss: 1.0812 - accuracy: 0.4060 - val_loss: 1.0803 - val_accuracy: 0.4054\n"
          ],
          "name": "stdout"
        }
      ]
    },
    {
      "cell_type": "code",
      "metadata": {
        "id": "8oEQsdZNa-Qq",
        "colab_type": "code",
        "colab": {
          "base_uri": "https://localhost:8080/",
          "height": 265
        },
        "outputId": "5616cfa4-41f2-41ee-f6a9-1a5fe545854d"
      },
      "source": [
        "# 예제 10.10 - 분류 신경망 학습 결과 확인\n",
        "import matplotlib.pyplot as plt\n",
        "\n",
        "plt.plot(history.history['accuracy'], 'b-', label = 'accuracy')\n",
        "plt.plot(history.history['val_accuracy'], 'k--', label = 'val_accuracy')\n",
        "plt.legend()\n",
        "plt.show()"
      ],
      "execution_count": 15,
      "outputs": [
        {
          "output_type": "display_data",
          "data": {
            "image/png": "[encoded data removed]",
            "text/plain": [
              "<Figure size 432x288 with 1 Axes>"
            ]
          },
          "metadata": {
            "tags": [],
            "needs_background": "light"
          }
        }
      ]
    },
    {
      "cell_type": "code",
      "metadata": {
        "id": "09ebPXDqbTPZ",
        "colab_type": "code",
        "colab": {
          "base_uri": "https://localhost:8080/",
          "height": 102
        },
        "outputId": "9171ee34-2e28-44ea-df40-8c24653cec1b"
      },
      "source": [
        "# 예제 10.11 - 분류 신경망으로 에이전트 행동을 확인\n",
        "import matplotlib\n",
        "import matplotlib.pyplot as plt\n",
        "import seaborn as sns\n",
        "\n",
        "scores = []\n",
        "steps = []\n",
        "actions = []\n",
        "\n",
        "for i in range(500):\n",
        "  if i % 100 == 0:\n",
        "    print(i)\n",
        "\n",
        "  score = 0\n",
        "  step = 0\n",
        "  previous_obs = []\n",
        "  env.reset()\n",
        "\n",
        "  while True:\n",
        "    if len(previous_obs) == 0:\n",
        "      action = env.action_space.sample()\n",
        "    else:\n",
        "      logit = model.predict(np.expand_dims(previous_obs, axis = 0))[0]\n",
        "      action = np.argmax(logit)\n",
        "      actions.append(action)\n",
        "\n",
        "    obs, reward, done, info = env.step(action)\n",
        "    previous_obs = obs\n",
        "    score += reward\n",
        "    step += 1\n",
        "\n",
        "    if done:\n",
        "      break\n",
        "\n",
        "  scores.append(score)\n",
        "  steps.append(step)"
      ],
      "execution_count": 18,
      "outputs": [
        {
          "output_type": "stream",
          "text": [
            "0\n",
            "100\n",
            "200\n",
            "300\n",
            "400\n"
          ],
          "name": "stdout"
        }
      ]
    },
    {
      "cell_type": "code",
      "metadata": {
        "id": "YDhWRhtTb2qK",
        "colab_type": "code",
        "colab": {
          "base_uri": "https://localhost:8080/",
          "height": 298
        },
        "outputId": "b78f3d20-34c9-480c-fec0-7f8c70e9a6b8"
      },
      "source": [
        "# 예제 10.12 - score, step 분포 확인\n",
        "fig, ax = plt.subplots(1, 2, figsize = (12, 4))\n",
        "ax[0].set_title('score')\n",
        "ax[1].set_title('step')\n",
        "\n",
        "sns.distplot(scores, rug = True, ax = ax[0])\n",
        "sns.distplot(steps, rug = True, ax = ax[1])\n",
        "\n",
        "print(np.mean(scores))"
      ],
      "execution_count": 19,
      "outputs": [
        {
          "output_type": "stream",
          "text": [
            "-121.968\n"
          ],
          "name": "stdout"
        },
        {
          "output_type": "display_data",
          "data": {
            "image/png": "[encoded data removed]",
            "text/plain": [
              "<Figure size 864x288 with 2 Axes>"
            ]
          },
          "metadata": {
            "tags": [],
            "needs_background": "light"
          }
        }
      ]
    },
    {
      "cell_type": "code",
      "metadata": {
        "id": "9gmo4V5nc1AY",
        "colab_type": "code",
        "colab": {
          "base_uri": "https://localhost:8080/",
          "height": 282
        },
        "outputId": "97961e52-4399-4c0d-acc8-315d713cf17e"
      },
      "source": [
        "# 예제 10.13 - 행동 분포 확인\n",
        "sns.distplot(actions)"
      ],
      "execution_count": 20,
      "outputs": [
        {
          "output_type": "execute_result",
          "data": {
            "text/plain": [
              "<matplotlib.axes._subplots.AxesSubplot at 0x7ff4283170b8>"
            ]
          },
          "metadata": {
            "tags": []
          },
          "execution_count": 20
        },
        {
          "output_type": "display_data",
          "data": {
            "image/png": "[encoded data removed]",
            "text/plain": [
              "<Figure size 432x288 with 1 Axes>"
            ]
          },
          "metadata": {
            "tags": [],
            "needs_background": "light"
          }
        }
      ]
    },
    {
      "cell_type": "code",
      "metadata": {
        "id": "5q79pdtFc_yM",
        "colab_type": "code",
        "colab": {}
      },
      "source": [
        "# 예제 10.14 - 분류 신경망 행동 에이전트의 실행 결과 확인\n",
        "env.close()\n",
        "env = wrap_env(gym.make(\"MountainCar-v0\"))\n",
        "env.reset()\n",
        "\n",
        "score = 0\n",
        "step = 0\n",
        "previous_obs = []\n",
        "\n",
        "while True:\n",
        "  if len(previous_obs) == 0:\n",
        "    action = env.action_space.sample()\n",
        "  else:\n",
        "    logit = model.predict(np.expand_dims(previous_obs, axis = 0))[0]\n",
        "    # logit = logit.astype(float)\n",
        "    # logit = logit / logit.sum()\n",
        "    # prob = np.random.multinomial(1, logit)\n",
        "    # action = np.argmax(prob)\n",
        "    action = np.argmax(logit)\n",
        "\n",
        "  obs, reward, done, info = env.step(action)\n",
        "  previous_obs = obs\n",
        "  score += reward\n",
        "  step += 1\n",
        "\n",
        "  if done:\n",
        "    break\n",
        "\n",
        "print('score :', score)\n",
        "print('step :', step)\n",
        "env.close()\n",
        "show_video()"
      ],
      "execution_count": 0,
      "outputs": []
    }
  ]
}
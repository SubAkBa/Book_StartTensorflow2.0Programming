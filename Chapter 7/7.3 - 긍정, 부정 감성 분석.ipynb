{
  "nbformat": 4,
  "nbformat_minor": 0,
  "metadata": {
    "colab": {
      "name": "7.3 - 긍정, 부정 감성 분석",
      "provenance": [],
      "collapsed_sections": []
    },
    "kernelspec": {
      "name": "python3",
      "display_name": "Python 3"
    },
    "accelerator": "GPU"
  },
  "cells": [
    {
      "cell_type": "code",
      "metadata": {
        "id": "ZrfBVqaVqJf-",
        "colab_type": "code",
        "colab": {
          "base_uri": "https://localhost:8080/",
          "height": 85
        },
        "outputId": "18489eb5-4c1c-4827-a943-5602b3ddb047"
      },
      "source": [
        "# 임베딩 레이어 (Embedding Layer) : 자연어를 수치화된 정보로 바꾸기 위한 레이어\n",
        "# 감성 분석 (Sentiment Analysis) : 입력된 자연어 안의 주관적 의견, 감정 등을 찾아내는 문제\n",
        "\n",
        "import tensorflow as tf\n",
        "\n",
        "# 예제 7.19 : Naver Sentiment Movie Corpus v1.0 다운로드\n",
        "path_to_train_file = tf.keras.utils.get_file(\"train.txt\", \"https://raw.githubusercontent.com/e9t/nsmc/master/ratings_train.txt\")\n",
        "path_to_test_file = tf.keras.utils.get_file(\"test.txt\", \"https://raw.githubusercontent.com/e9t/nsmc/master/ratings_test.txt\")"
      ],
      "execution_count": 1,
      "outputs": [
        {
          "output_type": "stream",
          "text": [
            "Downloading data from https://raw.githubusercontent.com/e9t/nsmc/master/ratings_train.txt\n",
            "14630912/14628807 [==============================] - 0s 0us/step\n",
            "Downloading data from https://raw.githubusercontent.com/e9t/nsmc/master/ratings_test.txt\n",
            "4898816/4893335 [==============================] - 0s 0us/step\n"
          ],
          "name": "stdout"
        }
      ]
    },
    {
      "cell_type": "code",
      "metadata": {
        "id": "gsnuIOB0sC8w",
        "colab_type": "code",
        "colab": {
          "base_uri": "https://localhost:8080/",
          "height": 204
        },
        "outputId": "f2c7b477-8556-4012-e193-efcc7c9ae260"
      },
      "source": [
        "# 예제 7.20 : 데이터 로드 및 확인\n",
        "# 데이터를 메모리에 불러옵니다. 인코딩 형식으로 utf-8을 지정해야 합니다.\n",
        "train_text = open(path_to_train_file, 'rb').read().decode(encoding = 'utf-8')\n",
        "test_text = open(path_to_test_file, 'rb').read().decode(encoding = 'utf-8')\n",
        "\n",
        "# 텍스트가 총 몇 자인지 확인합니다.\n",
        "print('Length of text : {} characters'.format(len(train_text)))\n",
        "print('Length of text : {} characters'.format(len(test_text)))\n",
        "print()\n",
        "\n",
        "# 처음 300자를 확인해봅니다.\n",
        "print(train_text[:300])"
      ],
      "execution_count": 2,
      "outputs": [
        {
          "output_type": "stream",
          "text": [
            "Length of text : 6937271 characters\n",
            "Length of text : 2318260 characters\n",
            "\n",
            "id\tdocument\tlabel\n",
            "9976970\t아 더빙.. 진짜 짜증나네요 목소리\t0\n",
            "3819312\t흠...포스터보고 초딩영화줄....오버연기조차 가볍지 않구나\t1\n",
            "10265843\t너무재밓었다그래서보는것을추천한다\t0\n",
            "9045019\t교도소 이야기구먼 ..솔직히 재미는 없다..평점 조정\t0\n",
            "6483659\t사이몬페그의 익살스런 연기가 돋보였던 영화!스파이더맨에서 늙어보이기만 했던 커스틴 던스트가 너무나도 이뻐보였다\t1\n",
            "5403919\t막 걸음마 뗀 3세부터 초등학교 1학년생인 8살용영화.ㅋㅋㅋ...별반개도 아까움.\t0\n",
            "7797314\t원작의\n"
          ],
          "name": "stdout"
        }
      ]
    },
    {
      "cell_type": "code",
      "metadata": {
        "id": "Vvboo5aYsjWB",
        "colab_type": "code",
        "colab": {
          "base_uri": "https://localhost:8080/",
          "height": 119
        },
        "outputId": "b98d1ccc-889f-4864-a676-23b354a940b0"
      },
      "source": [
        "# 예제 7.21 : 학습을 위한 정답 데이터 (Y) 만들기\n",
        "import numpy as np\n",
        "\n",
        "train_Y = np.array([[int(row.split('\\t')[2])] for row in train_text.split('\\n')[1 :] if row.count('\\t') > 0])\n",
        "test_Y = np.array([[int(row.split('\\t')[2])] for row in test_text.split('\\n')[1 :] if row.count('\\t') > 0])\n",
        "\n",
        "print(train_Y.shape, test_Y.shape)\n",
        "print(train_Y[: 5])"
      ],
      "execution_count": 3,
      "outputs": [
        {
          "output_type": "stream",
          "text": [
            "(150000, 1) (50000, 1)\n",
            "[[0]\n",
            " [1]\n",
            " [0]\n",
            " [0]\n",
            " [1]]\n"
          ],
          "name": "stdout"
        }
      ]
    },
    {
      "cell_type": "code",
      "metadata": {
        "id": "zN4Wb3y3t5Hs",
        "colab_type": "code",
        "colab": {
          "base_uri": "https://localhost:8080/",
          "height": 122
        },
        "outputId": "3f9f5877-4b2b-4a57-ebee-12b455a9c975"
      },
      "source": [
        "# 예제 7.22 : 훈련 데이터의 입력 (X) 정제\n",
        "# 정규표현식 라이브러리\n",
        "import re\n",
        "\n",
        "# From https://github.com/yoonkim/CNN_sentence/blob/master/process_data.py\n",
        "def clean_str(string):\n",
        "  string = re.sub(r\"[^가-힣A-Za-z0-9(),!?\\'\\`]\", \" \", string)     \n",
        "  string = re.sub(r\"\\'s\", \" \\'s\", string) \n",
        "  string = re.sub(r\"\\'ve\", \" \\'ve\", string) \n",
        "  string = re.sub(r\"n\\'t\", \" n\\'t\", string) \n",
        "  string = re.sub(r\"\\'re\", \" \\'re\", string) \n",
        "  string = re.sub(r\"\\'d\", \" \\'d\", string) \n",
        "  string = re.sub(r\"\\'ll\", \" \\'ll\", string) \n",
        "  string = re.sub(r\",\", \" , \", string) \n",
        "  string = re.sub(r\"!\", \" ! \", string) \n",
        "  string = re.sub(r\"\\(\", \" \\( \", string) \n",
        "  string = re.sub(r\"\\)\", \" \\) \", string) \n",
        "  string = re.sub(r\"\\?\", \" \\? \", string) \n",
        "  string = re.sub(r\"\\s{2,}\", \" \", string)\n",
        "  string = re.sub(r\"\\'{2,}\", \"\\'\", string)\n",
        "  string = re.sub(r\"\\'\", \"\", string)\n",
        "\n",
        "  return string.lower()\n",
        "\n",
        "train_text_X = [row.split('\\t')[1] for row in train_text.split('\\n')[1 :] if row.count('\\t') > 0]\n",
        "train_text_X = [clean_str(sentence) for sentence in train_text_X]\n",
        "\n",
        "# 문장을 띄어쓰기 단위로 단어 분리\n",
        "sentences = [sentence.split(' ') for sentence in train_text_X]\n",
        "for i in range(5):\n",
        "  print(sentences[i])"
      ],
      "execution_count": 4,
      "outputs": [
        {
          "output_type": "stream",
          "text": [
            "['아', '더빙', '진짜', '짜증나네요', '목소리']\n",
            "['흠', '포스터보고', '초딩영화줄', '오버연기조차', '가볍지', '않구나']\n",
            "['너무재밓었다그래서보는것을추천한다']\n",
            "['교도소', '이야기구먼', '솔직히', '재미는', '없다', '평점', '조정']\n",
            "['사이몬페그의', '익살스런', '연기가', '돋보였던', '영화', '!', '스파이더맨에서', '늙어보이기만', '했던', '커스틴', '던스트가', '너무나도', '이뻐보였다']\n"
          ],
          "name": "stdout"
        }
      ]
    },
    {
      "cell_type": "code",
      "metadata": {
        "id": "A8uWrukRv58P",
        "colab_type": "code",
        "colab": {
          "base_uri": "https://localhost:8080/",
          "height": 282
        },
        "outputId": "21366918-2e61-4cb4-db2b-fe7fd2332a1b"
      },
      "source": [
        "# 예제 7.23 : 각 문장의 단어 길이 확인\n",
        "import matplotlib.pyplot as plt\n",
        "\n",
        "sentence_len = [len(sentence) for sentence in sentences]\n",
        "sentence_len.sort()\n",
        "\n",
        "plt.plot(sentence_len)\n",
        "plt.show()\n",
        "\n",
        "print(sum([int(l <= 25) for l in sentence_len]))"
      ],
      "execution_count": 5,
      "outputs": [
        {
          "output_type": "display_data",
          "data": {
            "image/png": "[encoded data removed]",
            "text/plain": [
              "<Figure size 432x288 with 1 Axes>"
            ]
          },
          "metadata": {
            "tags": [],
            "needs_background": "light"
          }
        },
        {
          "output_type": "stream",
          "text": [
            "142587\n"
          ],
          "name": "stdout"
        }
      ]
    },
    {
      "cell_type": "code",
      "metadata": {
        "id": "5HXPWv_fxN6E",
        "colab_type": "code",
        "colab": {
          "base_uri": "https://localhost:8080/",
          "height": 122
        },
        "outputId": "a4dd14ff-d099-4933-ac17-1c111d0f68fc"
      },
      "source": [
        "# 예제 7.24 : 단어 정제 및 문장 길이 줄임\n",
        "sentences_new = []\n",
        "\n",
        "for sentence in sentences:\n",
        "  sentences_new.append([word[: 5] for word in sentence][: 25])\n",
        "\n",
        "sentences = sentences_new\n",
        "\n",
        "for i in range(5):\n",
        "  print(sentences[i])"
      ],
      "execution_count": 6,
      "outputs": [
        {
          "output_type": "stream",
          "text": [
            "['아', '더빙', '진짜', '짜증나네요', '목소리']\n",
            "['흠', '포스터보고', '초딩영화줄', '오버연기조', '가볍지', '않구나']\n",
            "['너무재밓었']\n",
            "['교도소', '이야기구먼', '솔직히', '재미는', '없다', '평점', '조정']\n",
            "['사이몬페그', '익살스런', '연기가', '돋보였던', '영화', '!', '스파이더맨', '늙어보이기', '했던', '커스틴', '던스트가', '너무나도', '이뻐보였다']\n"
          ],
          "name": "stdout"
        }
      ]
    },
    {
      "cell_type": "code",
      "metadata": {
        "id": "8Q1gsVNcx39y",
        "colab_type": "code",
        "colab": {
          "base_uri": "https://localhost:8080/",
          "height": 272
        },
        "outputId": "c4242b78-21df-4aeb-c5c7-0d38a544b02c"
      },
      "source": [
        "# 예제 7.25 : Tokenizer와 pad_sequences를 이용한 문장 전처리\n",
        "from tensorflow.keras.preprocessing.text import Tokenizer\n",
        "from tensorflow.keras.preprocessing.sequence import pad_sequences\n",
        "\n",
        "tokenizer = Tokenizer(num_words = 20000) # 가장 빈도가 높은 2만개의 단어만 선택합니다.\n",
        "tokenizer.fit_on_texts(sentences) # Tokenizer에 데이터를 실제로 입력합니다.\n",
        "train_X = tokenizer.texts_to_sequences(sentences) # 문장을 입력받아 숫자를 반환합니다.\n",
        "train_X = pad_sequences(train_X, padding = 'post') # 입력된 데이터에 패딩을 더합니다.\n",
        "                                                   # padding option : (1) 'pre' - 문장의 앞에 패딩을 넣습니다.\n",
        "                                                   #                  (2) 'post' - 문장의 뒤에 패딩을 넣습니다.\n",
        "print(train_X[: 5])"
      ],
      "execution_count": 7,
      "outputs": [
        {
          "output_type": "stream",
          "text": [
            "[[   25   884     8  5795  1111     0     0     0     0     0     0     0\n",
            "      0     0     0     0     0     0     0     0     0     0     0     0\n",
            "      0]\n",
            " [  588  5796  6697     0     0     0     0     0     0     0     0     0\n",
            "      0     0     0     0     0     0     0     0     0     0     0     0\n",
            "      0]\n",
            " [    0     0     0     0     0     0     0     0     0     0     0     0\n",
            "      0     0     0     0     0     0     0     0     0     0     0     0\n",
            "      0]\n",
            " [   71   346    31    35 10468     0     0     0     0     0     0     0\n",
            "      0     0     0     0     0     0     0     0     0     0     0     0\n",
            "      0]\n",
            " [  106  5338     4     2  2169   869   573     0     0     0     0     0\n",
            "      0     0     0     0     0     0     0     0     0     0     0     0\n",
            "      0]]\n"
          ],
          "name": "stdout"
        }
      ]
    },
    {
      "cell_type": "code",
      "metadata": {
        "id": "sL6TnxcayfQG",
        "colab_type": "code",
        "colab": {
          "base_uri": "https://localhost:8080/",
          "height": 136
        },
        "outputId": "d8683cd7-17e8-4d11-afab-0e2e3b95884b"
      },
      "source": [
        "# 예제 7.26 : Tokenizer의 동작 확인\n",
        "print(tokenizer.index_word[19999])\n",
        "print(tokenizer.index_word[20000])\n",
        "\n",
        "temp = tokenizer.texts_to_sequences(['#$#$#', '경우는', '잊혀질', '연기가'])\n",
        "print(temp)\n",
        "\n",
        "temp = pad_sequences(temp, padding = 'post') # 공백에 0을 삽입합니다.\n",
        "print(temp)"
      ],
      "execution_count": 8,
      "outputs": [
        {
          "output_type": "stream",
          "text": [
            "경우는\n",
            "잊혀질\n",
            "[[], [19999], [], [106]]\n",
            "[[    0]\n",
            " [19999]\n",
            " [    0]\n",
            " [  106]]\n"
          ],
          "name": "stdout"
        }
      ]
    },
    {
      "cell_type": "code",
      "metadata": {
        "id": "6htXSQBn0M-y",
        "colab_type": "code",
        "colab": {
          "base_uri": "https://localhost:8080/",
          "height": 255
        },
        "outputId": "88a84320-0de9-433c-beb0-f9766d39a29b"
      },
      "source": [
        "# 예제 7.27 : 감성 분석을 위한 모델 정의\n",
        "model = tf.keras.Sequential([\n",
        "                             tf.keras.layers.Embedding(20000, 300, input_length = 25),\n",
        "                             tf.keras.layers.LSTM(units = 50),\n",
        "                             tf.keras.layers.Dense(units = 2, activation = 'softmax')\n",
        "])\n",
        "\n",
        "# 정답인 Y가 희소 행렬일 때 sparse 사용합니다.\n",
        "model.compile(optimizer = 'adam', loss = 'sparse_categorical_crossentropy', metrics = ['accuracy'])\n",
        "model.summary()"
      ],
      "execution_count": 9,
      "outputs": [
        {
          "output_type": "stream",
          "text": [
            "Model: \"sequential\"\n",
            "_________________________________________________________________\n",
            "Layer (type)                 Output Shape              Param #   \n",
            "=================================================================\n",
            "embedding (Embedding)        (None, 25, 300)           6000000   \n",
            "_________________________________________________________________\n",
            "lstm (LSTM)                  (None, 50)                70200     \n",
            "_________________________________________________________________\n",
            "dense (Dense)                (None, 2)                 102       \n",
            "=================================================================\n",
            "Total params: 6,070,302\n",
            "Trainable params: 6,070,302\n",
            "Non-trainable params: 0\n",
            "_________________________________________________________________\n"
          ],
          "name": "stdout"
        }
      ]
    },
    {
      "cell_type": "code",
      "metadata": {
        "id": "eVapmeCj06XR",
        "colab_type": "code",
        "colab": {
          "base_uri": "https://localhost:8080/",
          "height": 207
        },
        "outputId": "c201fac7-deaa-41bc-915d-9370b5b1775a"
      },
      "source": [
        "# 예제 7.28 : 감성 분석 모델 학습\n",
        "history = model.fit(train_X, train_Y, epochs = 5, batch_size = 128, validation_split = 0.2)"
      ],
      "execution_count": 10,
      "outputs": [
        {
          "output_type": "stream",
          "text": [
            "Epoch 1/5\n",
            "938/938 [==============================] - 55s 58ms/step - loss: 0.4329 - accuracy: 0.7869 - val_loss: 0.3885 - val_accuracy: 0.8196\n",
            "Epoch 2/5\n",
            "938/938 [==============================] - 54s 57ms/step - loss: 0.3251 - accuracy: 0.8472 - val_loss: 0.3980 - val_accuracy: 0.8205\n",
            "Epoch 3/5\n",
            "938/938 [==============================] - 54s 57ms/step - loss: 0.2734 - accuracy: 0.8692 - val_loss: 0.4133 - val_accuracy: 0.8160\n",
            "Epoch 4/5\n",
            "938/938 [==============================] - 54s 57ms/step - loss: 0.2315 - accuracy: 0.8856 - val_loss: 0.4924 - val_accuracy: 0.8150\n",
            "Epoch 5/5\n",
            "938/938 [==============================] - 54s 58ms/step - loss: 0.1962 - accuracy: 0.9021 - val_loss: 0.5482 - val_accuracy: 0.8080\n"
          ],
          "name": "stdout"
        }
      ]
    },
    {
      "cell_type": "code",
      "metadata": {
        "id": "ayVymNit1RaS",
        "colab_type": "code",
        "colab": {
          "base_uri": "https://localhost:8080/",
          "height": 283
        },
        "outputId": "13dd3fb3-65c1-4e1e-8d38-e983bac19b92"
      },
      "source": [
        "# 예제 7.29 : 감성 분석 모델의 학습 결과 확인\n",
        "import matplotlib.pyplot as plt\n",
        "plt.figure(figsize = (12, 4))\n",
        "\n",
        "plt.subplot(1, 2, 1)\n",
        "plt.plot(history.history['loss'], 'b-', label = 'loss')\n",
        "plt.plot(history.history['val_loss'], 'r--', label = 'val_loss')\n",
        "plt.xlabel('Epoch')\n",
        "plt.legend()\n",
        "\n",
        "plt.subplot(1, 2, 2)\n",
        "plt.plot(history.history['accuracy'], 'g-', label = 'accuracy')\n",
        "plt.plot(history.history['val_accuracy'], 'k--', label = 'val_accuracy')\n",
        "plt.xlabel('Epoch')\n",
        "plt.ylim(0.7, 1)\n",
        "plt.legend()\n",
        "\n",
        "plt.show()"
      ],
      "execution_count": 13,
      "outputs": [
        {
          "output_type": "display_data",
          "data": {
            "image/png": "[encoded data removed]",
            "text/plain": [
              "<Figure size 864x288 with 2 Axes>"
            ]
          },
          "metadata": {
            "tags": [],
            "needs_background": "light"
          }
        }
      ]
    },
    {
      "cell_type": "code",
      "metadata": {
        "id": "KPomIQpl3Idk",
        "colab_type": "code",
        "colab": {
          "base_uri": "https://localhost:8080/",
          "height": 34
        },
        "outputId": "f7f0f2ba-9f31-4a3d-c23c-f6907d5a6e07"
      },
      "source": [
        "# 예제 7.30 : 테스트 데이터 평가\n",
        "test_text_X = [row.split('\\t')[1] for row in test_text.split('\\n')[1 :] if row.count('\\t') > 0]\n",
        "test_text_X = [clean_str(sentence) for sentence in test_text_X]\n",
        "sentences = [sentence.split(' ') for sentence in test_text_X]\n",
        "\n",
        "sentences_new = []\n",
        "for sentence in sentences:\n",
        "  sentences_new.append([word[: 5] for word in sentence][: 25])\n",
        "\n",
        "sentences = sentences_new\n",
        "\n",
        "test_X = tokenizer.texts_to_sequences(sentences)\n",
        "test_X = pad_sequences(test_X, padding = 'post')\n",
        "\n",
        "model.evaluate(test_X, test_Y, verbose = 0)"
      ],
      "execution_count": 14,
      "outputs": [
        {
          "output_type": "execute_result",
          "data": {
            "text/plain": [
              "[0.5608747601509094, 0.8004400134086609]"
            ]
          },
          "metadata": {
            "tags": []
          },
          "execution_count": 14
        }
      ]
    },
    {
      "cell_type": "code",
      "metadata": {
        "id": "Glc_q_hN4F7U",
        "colab_type": "code",
        "colab": {
          "base_uri": "https://localhost:8080/",
          "height": 323
        },
        "outputId": "106e0c8a-d966-441e-ad27-169a31212fc1"
      },
      "source": [
        "# 예제 7.31 : 임의의 문장에 대한 감성 분석 결과 확인\n",
        "test_sentence = \"재미있을 줄 알았는데 완전 실망했다. 너무 졸리고 돈이 아까웠다.\"\n",
        "test_sentence = test_sentence.split(' ')\n",
        "\n",
        "test_sentences = []\n",
        "now_sentence = []\n",
        "\n",
        "for word in test_sentence:\n",
        "  now_sentence.append(word)\n",
        "  test_sentences.append(now_sentence[:])\n",
        "\n",
        "test_X_1 = tokenizer.texts_to_sequences(test_sentences)\n",
        "test_X_1 = pad_sequences(test_X_1, padding = 'post', maxlen = 25)\n",
        "prediction = model.predict(test_X_1)\n",
        "for idx, sentence in enumerate(test_sentences):\n",
        "  print(sentence)\n",
        "  print(prediction[idx])"
      ],
      "execution_count": 15,
      "outputs": [
        {
          "output_type": "stream",
          "text": [
            "['재미있을']\n",
            "[0.37422362 0.6257764 ]\n",
            "['재미있을', '줄']\n",
            "[0.42404154 0.57595843]\n",
            "['재미있을', '줄', '알았는데']\n",
            "[0.49273804 0.507262  ]\n",
            "['재미있을', '줄', '알았는데', '완전']\n",
            "[0.494689 0.505311]\n",
            "['재미있을', '줄', '알았는데', '완전', '실망했다.']\n",
            "[0.494689 0.505311]\n",
            "['재미있을', '줄', '알았는데', '완전', '실망했다.', '너무']\n",
            "[0.5042005  0.49579948]\n",
            "['재미있을', '줄', '알았는데', '완전', '실망했다.', '너무', '졸리고']\n",
            "[0.9883654  0.01163462]\n",
            "['재미있을', '줄', '알았는데', '완전', '실망했다.', '너무', '졸리고', '돈이']\n",
            "[0.9984261  0.00157398]\n",
            "['재미있을', '줄', '알았는데', '완전', '실망했다.', '너무', '졸리고', '돈이', '아까웠다.']\n",
            "[0.9984261  0.00157398]\n"
          ],
          "name": "stdout"
        }
      ]
    }
  ]
}
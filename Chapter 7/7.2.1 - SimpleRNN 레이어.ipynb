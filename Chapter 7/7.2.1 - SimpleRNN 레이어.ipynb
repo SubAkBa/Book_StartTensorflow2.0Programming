{
  "nbformat": 4,
  "nbformat_minor": 0,
  "metadata": {
    "colab": {
      "name": "7.2.1 - SimpleRNN 레이어",
      "provenance": [],
      "collapsed_sections": []
    },
    "kernelspec": {
      "name": "python3",
      "display_name": "Python 3"
    }
  },
  "cells": [
    {
      "cell_type": "code",
      "metadata": {
        "id": "_VFRlkJtlNBQ",
        "colab_type": "code",
        "colab": {
          "base_uri": "https://localhost:8080/",
          "height": 425
        },
        "outputId": "586f5107-bff7-45f1-ca02-7d5b9c5b5eac"
      },
      "source": [
        "import numpy as np\n",
        "import tensorflow as tf\n",
        "\n",
        "# 예제 7.2 시퀀스 예측 데이터 생성\n",
        "X = []\n",
        "Y = []\n",
        "\n",
        "for i in range(6):\n",
        "  # [0, 1, 2, 3], [1, 2, 3, 4] 같은 정수의 시퀀스를 만듭니다.\n",
        "  lst = list(range(i, i + 4))\n",
        "\n",
        "  # 위에서 구한 시퀀스의 숫자들을 각각 10으로 나눈 다음 저장합니다.\n",
        "  # SimpleRNN에 각 타임스텝에 하나씩 숫자가 들어가기 때문에 여기서도 하나씩 분리해서 배열에 저장합니다.\n",
        "  X.append(list(map(lambda c: [c / 10], lst)))\n",
        "\n",
        "  # 정답에 해당하는 4, 5 등의 정수 역시 앞에서처럼 10으로 나눠서 저장합니다.\n",
        "  Y.append((i + 4) / 10)\n",
        "\n",
        "X = np.array(X)\n",
        "Y = np.array(Y)\n",
        "for i in range(len(X)):\n",
        "  print(X[i], Y[i])"
      ],
      "execution_count": 3,
      "outputs": [
        {
          "output_type": "stream",
          "text": [
            "[[0. ]\n",
            " [0.1]\n",
            " [0.2]\n",
            " [0.3]] 0.4\n",
            "[[0.1]\n",
            " [0.2]\n",
            " [0.3]\n",
            " [0.4]] 0.5\n",
            "[[0.2]\n",
            " [0.3]\n",
            " [0.4]\n",
            " [0.5]] 0.6\n",
            "[[0.3]\n",
            " [0.4]\n",
            " [0.5]\n",
            " [0.6]] 0.7\n",
            "[[0.4]\n",
            " [0.5]\n",
            " [0.6]\n",
            " [0.7]] 0.8\n",
            "[[0.5]\n",
            " [0.6]\n",
            " [0.7]\n",
            " [0.8]] 0.9\n"
          ],
          "name": "stdout"
        }
      ]
    },
    {
      "cell_type": "code",
      "metadata": {
        "id": "q6uQ1xfinjfv",
        "colab_type": "code",
        "colab": {
          "base_uri": "https://localhost:8080/",
          "height": 221
        },
        "outputId": "1b5fbfb1-6545-4421-fda6-5122aef2f165"
      },
      "source": [
        "# 예제 7.3 : 시퀀스 예측 모델 정의\n",
        "# input_shape = [timesteps, input_dim]\n",
        "# timesteps : 순환 신경망이 입력에 대해 계산을 반복하는 횟수\n",
        "# input_dim : 입력 벡터의 크기\n",
        "model = tf.keras.Sequential([\n",
        "                             tf.keras.layers.SimpleRNN(units = 10, return_sequences = False, input_shape = [4, 1]),\n",
        "                             tf.keras.layers.Dense(1)\n",
        "])\n",
        "\n",
        "model.compile(optimizer = 'adam', loss = 'mse')\n",
        "model.summary()"
      ],
      "execution_count": 5,
      "outputs": [
        {
          "output_type": "stream",
          "text": [
            "Model: \"sequential\"\n",
            "_________________________________________________________________\n",
            "Layer (type)                 Output Shape              Param #   \n",
            "=================================================================\n",
            "simple_rnn (SimpleRNN)       (None, 10)                120       \n",
            "_________________________________________________________________\n",
            "dense (Dense)                (None, 1)                 11        \n",
            "=================================================================\n",
            "Total params: 131\n",
            "Trainable params: 131\n",
            "Non-trainable params: 0\n",
            "_________________________________________________________________\n"
          ],
          "name": "stdout"
        }
      ]
    },
    {
      "cell_type": "code",
      "metadata": {
        "id": "OXxpMeWBn75X",
        "colab_type": "code",
        "colab": {
          "base_uri": "https://localhost:8080/",
          "height": 119
        },
        "outputId": "83394ada-6e22-47fa-c728-869e517262dc"
      },
      "source": [
        "# 예제 7.4 : 네트워크 훈련 및 결과 확인\n",
        "# verbose = 0 : 훈련 과정에서의 출력을 나오지 않게 합니다.\n",
        "model.fit(X, Y, epochs = 100, verbose = 0)\n",
        "\n",
        "print(model.predict(X))"
      ],
      "execution_count": 8,
      "outputs": [
        {
          "output_type": "stream",
          "text": [
            "[[0.35158154]\n",
            " [0.5227035 ]\n",
            " [0.6540485 ]\n",
            " [0.7438684 ]\n",
            " [0.79712695]\n",
            " [0.8216642 ]]\n"
          ],
          "name": "stdout"
        }
      ]
    },
    {
      "cell_type": "code",
      "metadata": {
        "id": "dwo3CvsEo7Jy",
        "colab_type": "code",
        "colab": {
          "base_uri": "https://localhost:8080/",
          "height": 51
        },
        "outputId": "e03eca87-04e5-4a7f-d122-f31e707c2e46"
      },
      "source": [
        "# 예제 7.5 : 학습되지 않은 시퀀스에 대한 예측 결과\n",
        "print(model.predict(np.array([[[0.6], [0.7], [0.8], [0.9]]])))\n",
        "print(model.predict(np.array([[[-0.1], [0.0], [0.1], [0.2]]])))"
      ],
      "execution_count": 9,
      "outputs": [
        {
          "output_type": "stream",
          "text": [
            "[[0.82552844]]\n",
            "[[0.15233523]]\n"
          ],
          "name": "stdout"
        }
      ]
    }
  ]
}
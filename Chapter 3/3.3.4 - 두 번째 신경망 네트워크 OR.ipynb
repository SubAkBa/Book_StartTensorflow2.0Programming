{
  "nbformat": 4,
  "nbformat_minor": 0,
  "metadata": {
    "colab": {
      "name": "3.3.4 : 두 번째 신경망 네트워크 - OR",
      "provenance": [],
      "collapsed_sections": []
    },
    "kernelspec": {
      "name": "python3",
      "display_name": "Python 3"
    }
  },
  "cells": [
    {
      "cell_type": "code",
      "metadata": {
        "id": "esCibCoQGxEs",
        "colab_type": "code",
        "colab": {}
      },
      "source": [
        "import tensorflow as tf\n",
        "import math\n",
        "\n",
        "def sigmoid(x):\n",
        "  return 1 / (1 + math.exp(-x))"
      ],
      "execution_count": 0,
      "outputs": []
    },
    {
      "cell_type": "code",
      "metadata": {
        "id": "SCaNz3kgG4vW",
        "colab_type": "code",
        "colab": {
          "base_uri": "https://localhost:8080/",
          "height": 187
        },
        "outputId": "41e74dd0-cee6-4061-c3a0-ac65040b6617"
      },
      "source": [
        "# 예제 3.21 : 두 번째 신경망 네트워크 OR\n",
        "import numpy as np\n",
        "\n",
        "x = np.array([[1, 1], [1, 0], [0, 1], [0, 0]])\n",
        "y = np.array([[1], [1], [1], [0]])\n",
        "w = tf.random.normal([2], 0, 1)\n",
        "b = tf.random.normal([1], 0, 1)\n",
        "b_x = 1\n",
        "\n",
        "for i in range(2000):\n",
        "  error_sum = 0\n",
        "\n",
        "  for j in range(4):\n",
        "    output = sigmoid(np.sum(x[j] * w) + b * b_x)\n",
        "    error = y[j][0] - output\n",
        "    w = w + x[j] * 0.1 * error\n",
        "    b = b + b_x * 0.1 * error\n",
        "    error_sum += error\n",
        "\n",
        "  if i % 200 == 199:\n",
        "    print(i, error_sum)"
      ],
      "execution_count": 3,
      "outputs": [
        {
          "output_type": "stream",
          "text": [
            "199 -0.047897344841935224\n",
            "399 -0.025259015241471117\n",
            "599 -0.01709891457314107\n",
            "799 -0.012885436335570974\n",
            "999 -0.010320232289191884\n",
            "1199 -0.008598306189651676\n",
            "1399 -0.007364382279584573\n",
            "1599 -0.006437160721301648\n",
            "1799 -0.005716207891853144\n",
            "1999 -0.005138053722670073\n"
          ],
          "name": "stdout"
        }
      ]
    },
    {
      "cell_type": "code",
      "metadata": {
        "id": "EBpadzrDHstD",
        "colab_type": "code",
        "colab": {
          "base_uri": "https://localhost:8080/",
          "height": 85
        },
        "outputId": "76555e5c-7cbd-41b5-8184-329b350a3756"
      },
      "source": [
        "# 에제 3.22 : OR 네트워크의 평가\n",
        "for i in range(4):\n",
        "  print('X :', x[i], 'Y :', y[i], 'Output :', sigmoid(np.sum(x[i] * w) + b))"
      ],
      "execution_count": 4,
      "outputs": [
        {
          "output_type": "stream",
          "text": [
            "X : [1 1] Y : [1] Output : 0.9999972244679853\n",
            "X : [1 0] Y : [1] Output : 0.9897948767122656\n",
            "X : [0 1] Y : [1] Output : 0.9898070841802239\n",
            "X : [0 0] Y : [0] Output : 0.025475303235704495\n"
          ],
          "name": "stdout"
        }
      ]
    }
  ]
}
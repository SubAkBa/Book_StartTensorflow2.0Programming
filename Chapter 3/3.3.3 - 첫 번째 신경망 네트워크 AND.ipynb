{
  "nbformat": 4,
  "nbformat_minor": 0,
  "metadata": {
    "colab": {
      "name": "3.3.3 첫 번째 신경망 네트워크: AND",
      "provenance": []
    },
    "kernelspec": {
      "name": "python3",
      "display_name": "Python 3"
    }
  },
  "cells": [
    {
      "cell_type": "code",
      "metadata": {
        "id": "N2pJ4WuHCBLx",
        "colab_type": "code",
        "colab": {
          "base_uri": "https://localhost:8080/",
          "height": 51
        },
        "outputId": "3a734b2f-bd41-4981-d695-1bfd89bdf81f"
      },
      "source": [
        "import tensorflow as tf\n",
        "import math\n",
        "\n",
        "def sigmoid(x):\n",
        "  return 1 / (1 + math.exp(-x))\n",
        "\n",
        "# 예제 3.15 : True, False의 정숫값 확인\n",
        "print(int(True))\n",
        "print(int(False))"
      ],
      "execution_count": 7,
      "outputs": [
        {
          "output_type": "stream",
          "text": [
            "1\n",
            "0\n"
          ],
          "name": "stdout"
        }
      ]
    },
    {
      "cell_type": "code",
      "metadata": {
        "id": "cK5GXWUNCY_w",
        "colab_type": "code",
        "colab": {
          "base_uri": "https://localhost:8080/",
          "height": 187
        },
        "outputId": "b5b65da9-ac77-40e3-87f9-0bc8a09ae7b4"
      },
      "source": [
        "# 예제 3.16 : 첫 번째 신경망 네트워크 - AND\n",
        "import numpy as np\n",
        "x = np.array([[1, 1], [0, 1], [1, 0], [0, 0]])\n",
        "y = np.array([[1], [0], [0], [0]])\n",
        "w = tf.random.normal([2], 0, 1)\n",
        "b = tf.random.normal([1], 0, 1)\n",
        "b_x = 1\n",
        "\n",
        "for i in range(2000):\n",
        "  error_sum = 0\n",
        "  for j in range(4):\n",
        "    output = sigmoid(np.sum(x[j] * w) + b_x * b)\n",
        "    error = y[j][0] - output\n",
        "    w = w + x[j] * 0.1 * error\n",
        "    b = b + b_x * 0.1 * error\n",
        "    error_sum += error\n",
        "\n",
        "  if i % 200 == 199:\n",
        "    print(i, error_sum)"
      ],
      "execution_count": 9,
      "outputs": [
        {
          "output_type": "stream",
          "text": [
            "199 -0.0920020329709049\n",
            "399 -0.058741208620198486\n",
            "599 -0.043005096248944996\n",
            "799 -0.03383158177477863\n",
            "999 -0.027839302498523212\n",
            "1199 -0.023626112921577503\n",
            "1399 -0.020506268752892003\n",
            "1599 -0.01810635039783834\n",
            "1799 -0.0162044313989012\n",
            "1999 -0.014660298816007847\n"
          ],
          "name": "stdout"
        }
      ]
    },
    {
      "cell_type": "code",
      "metadata": {
        "id": "FlKL99IKDz8g",
        "colab_type": "code",
        "colab": {
          "base_uri": "https://localhost:8080/",
          "height": 68
        },
        "outputId": "f3dc8c79-fab5-4652-a65d-1b0af71a9306"
      },
      "source": [
        "# 예제 3.17 : 파이썬에서 리스트에 정수를 곱하기\n",
        "print([1, 2, 3] * 2)\n",
        "print([1, 2, 3] * 0)\n",
        "print([1, 2, 3] * -1)"
      ],
      "execution_count": 11,
      "outputs": [
        {
          "output_type": "stream",
          "text": [
            "[1, 2, 3, 1, 2, 3]\n",
            "[]\n",
            "[]\n"
          ],
          "name": "stdout"
        }
      ]
    },
    {
      "cell_type": "code",
      "metadata": {
        "id": "YD1jh60zEn0b",
        "colab_type": "code",
        "colab": {
          "base_uri": "https://localhost:8080/",
          "height": 164
        },
        "outputId": "5d3f03ac-f701-436d-f886-f415bcdb715f"
      },
      "source": [
        "# 예제 3.18 : 파이썬에서 리스트에 실수를 곱하기\n",
        "print([1, 2, 3] * 0.01)"
      ],
      "execution_count": 12,
      "outputs": [
        {
          "output_type": "error",
          "ename": "TypeError",
          "evalue": "ignored",
          "traceback": [
            "\u001b[0;31m---------------------------------------------------------------------------\u001b[0m",
            "\u001b[0;31mTypeError\u001b[0m                                 Traceback (most recent call last)",
            "\u001b[0;32m<ipython-input-12-2fb24295697b>\u001b[0m in \u001b[0;36m<module>\u001b[0;34m()\u001b[0m\n\u001b[0;32m----> 1\u001b[0;31m \u001b[0mprint\u001b[0m\u001b[0;34m(\u001b[0m\u001b[0;34m[\u001b[0m\u001b[0;36m1\u001b[0m\u001b[0;34m,\u001b[0m \u001b[0;36m2\u001b[0m\u001b[0;34m,\u001b[0m \u001b[0;36m3\u001b[0m\u001b[0;34m]\u001b[0m \u001b[0;34m*\u001b[0m \u001b[0;36m0.01\u001b[0m\u001b[0;34m)\u001b[0m\u001b[0;34m\u001b[0m\u001b[0;34m\u001b[0m\u001b[0m\n\u001b[0m",
            "\u001b[0;31mTypeError\u001b[0m: can't multiply sequence by non-int of type 'float'"
          ]
        }
      ]
    },
    {
      "cell_type": "code",
      "metadata": {
        "id": "Q82J_RSfEvbG",
        "colab_type": "code",
        "colab": {
          "base_uri": "https://localhost:8080/",
          "height": 85
        },
        "outputId": "ee0e05a8-5def-4146-bc1f-c4767ce992a6"
      },
      "source": [
        "# 예제 3.19 : 넘파이 Array에 정수 및 실수 곱하기\n",
        "import numpy as np\n",
        "print(np.array([1, 2, 3]) * 2)\n",
        "print(np.array([1, 2, 3]) * 0)\n",
        "print(np.array([1, 2, 3]) * -1)\n",
        "print(np.array([1, 2, 3]) * 0.01)"
      ],
      "execution_count": 14,
      "outputs": [
        {
          "output_type": "stream",
          "text": [
            "[2 4 6]\n",
            "[0 0 0]\n",
            "[-1 -2 -3]\n",
            "[0.01 0.02 0.03]\n"
          ],
          "name": "stdout"
        }
      ]
    },
    {
      "cell_type": "code",
      "metadata": {
        "id": "vBlLVG64E49-",
        "colab_type": "code",
        "colab": {
          "base_uri": "https://localhost:8080/",
          "height": 85
        },
        "outputId": "d5122687-e896-4890-d0e4-1815df87282a"
      },
      "source": [
        "# 예제 3.20 : AND 네트워크의 평가\n",
        "for i in range(4):\n",
        "  print('X :', x[i], 'Y :', y[i], 'Output :', sigmoid(np.sum(x[i] * w) + b))"
      ],
      "execution_count": 15,
      "outputs": [
        {
          "output_type": "stream",
          "text": [
            "X : [1 1] Y : [1] Output : 0.9657786841873902\n",
            "X : [0 1] Y : [0] Output : 0.02425653133737452\n",
            "X : [1 0] Y : [0] Output : 0.02432893368022068\n",
            "X : [0 0] Y : [0] Output : 2.1964546554559882e-05\n"
          ],
          "name": "stdout"
        }
      ]
    }
  ]
}
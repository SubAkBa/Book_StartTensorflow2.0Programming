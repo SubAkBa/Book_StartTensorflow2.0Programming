{
  "nbformat": 4,
  "nbformat_minor": 0,
  "metadata": {
    "colab": {
      "name": "3.4.2 - 2-레이어 XOR 네트워크의 정보 시각화",
      "provenance": [],
      "collapsed_sections": []
    },
    "kernelspec": {
      "name": "python3",
      "display_name": "Python 3"
    }
  },
  "cells": [
    {
      "cell_type": "code",
      "metadata": {
        "id": "p9WuBvPSRFVK",
        "colab_type": "code",
        "colab": {}
      },
      "source": [
        "import tensorflow as tf\n",
        "import numpy as np\n",
        "x = np.array([[1, 1], [1, 0], [0, 1], [0, 0]])\n",
        "y = np.array([[0], [1], [1], [0]])\n",
        "\n",
        "model = tf.keras.Sequential([\n",
        "                             tf.keras.layers.Dense(units = 2, activation = 'sigmoid', input_shape = (2, )),\n",
        "                             tf.keras.layers.Dense(units = 1, activation = 'sigmoid')\n",
        "])\n",
        "\n",
        "model.compile(optimizer = tf.keras.optimizers.SGD(lr = 0.1), loss = 'mse')\n",
        "history = model.fit(x, y, epochs = 2000, batch_size = 1)"
      ],
      "execution_count": 0,
      "outputs": []
    },
    {
      "cell_type": "code",
      "metadata": {
        "id": "GdO84nt0Q1lA",
        "colab_type": "code",
        "colab": {
          "base_uri": "https://localhost:8080/",
          "height": 282
        },
        "outputId": "247668cf-9f2f-4b7b-e17a-847c2b1c9614"
      },
      "source": [
        "# 예제 3.34 : 2-레이어 XOR 네트워크의 손실 변화를 선 그래프로 표시\n",
        "import matplotlib.pyplot as plt\n",
        "plt.plot(history.history['loss'])"
      ],
      "execution_count": 3,
      "outputs": [
        {
          "output_type": "execute_result",
          "data": {
            "text/plain": [
              "[<matplotlib.lines.Line2D at 0x7f076489a5f8>]"
            ]
          },
          "metadata": {
            "tags": []
          },
          "execution_count": 3
        },
        {
          "output_type": "display_data",
          "data": {
            "image/png": "[encoded data removed]",
            "text/plain": [
              "<Figure size 432x288 with 1 Axes>"
            ]
          },
          "metadata": {
            "tags": [],
            "needs_background": "light"
          }
        }
      ]
    }
  ]
}
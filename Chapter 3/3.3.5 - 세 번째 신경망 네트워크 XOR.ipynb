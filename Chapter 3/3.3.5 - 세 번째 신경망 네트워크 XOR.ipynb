{
  "nbformat": 4,
  "nbformat_minor": 0,
  "metadata": {
    "colab": {
      "name": "3.3.5 : 세 번째 신경망 네트워크 - XOR",
      "provenance": [],
      "collapsed_sections": []
    },
    "kernelspec": {
      "name": "python3",
      "display_name": "Python 3"
    }
  },
  "cells": [
    {
      "cell_type": "code",
      "metadata": {
        "id": "MOIT2ufyIkfq",
        "colab_type": "code",
        "colab": {}
      },
      "source": [
        "import tensorflow as tf\n",
        "import math\n",
        "\n",
        "def sigmoid(x):\n",
        "  return 1 / (1 + math.exp(-x))"
      ],
      "execution_count": 0,
      "outputs": []
    },
    {
      "cell_type": "code",
      "metadata": {
        "id": "pp1-iQYhIwIn",
        "colab_type": "code",
        "outputId": "f0df19d7-bbf6-4cf0-934b-46def7925850",
        "colab": {
          "base_uri": "https://localhost:8080/",
          "height": 187
        }
      },
      "source": [
        "# 예제 3.23 : 세 번째 신경망 네트워크 - XOR\n",
        "import numpy as np\n",
        "\n",
        "x = np.array([[1, 1], [1, 0], [0, 1], [0, 0]])\n",
        "y = np.array([[0], [1], [1], [0]])\n",
        "w = tf.random.normal([2], 0, 1)\n",
        "b = tf.random.normal([1], 0, 1)\n",
        "b_x = 1\n",
        "\n",
        "for i in range(2000):\n",
        "  error_sum = 0\n",
        "\n",
        "  for j in range(4):\n",
        "    output = sigmoid(np.sum(x[j] * w) + b * b_x)\n",
        "    error = y[j] - output\n",
        "    w = w + x[j] * 0.1 * error\n",
        "    b = b + b_x * 0.1 * error\n",
        "    error_sum += error\n",
        "\n",
        "  if i % 200 == 199:\n",
        "    print(i, error_sum)"
      ],
      "execution_count": 0,
      "outputs": [
        {
          "output_type": "stream",
          "text": [
            "199 [-0.00155531]\n",
            "399 [-6.32298636e-05]\n",
            "599 [-2.57155198e-06]\n",
            "799 [-1.30299474e-07]\n",
            "999 [3.72284215e-09]\n",
            "1199 [3.72284215e-09]\n",
            "1399 [3.72284215e-09]\n",
            "1599 [3.72284215e-09]\n",
            "1799 [3.72284215e-09]\n",
            "1999 [3.72284215e-09]\n"
          ],
          "name": "stdout"
        }
      ]
    },
    {
      "cell_type": "code",
      "metadata": {
        "id": "lOWIJFk0JWCI",
        "colab_type": "code",
        "outputId": "bdd81f95-ea98-47b9-8efe-dbee538c5a9a",
        "colab": {
          "base_uri": "https://localhost:8080/",
          "height": 85
        }
      },
      "source": [
        "# 에제 3.24 : XOR 네트워크의 평가\n",
        "for i in range(4):\n",
        "  print('X :', x[i], 'Y :', y[j], 'Output :', sigmoid(np.sum(x[i] * w) + b))"
      ],
      "execution_count": 0,
      "outputs": [
        {
          "output_type": "stream",
          "text": [
            "X : [1 1] Y : [0] Output : 0.5128176286712095\n",
            "X : [1 0] Y : [0] Output : 0.5128176305326305\n",
            "X : [0 1] Y : [0] Output : 0.4999999990686774\n",
            "X : [0 0] Y : [0] Output : 0.5000000009313226\n"
          ],
          "name": "stdout"
        }
      ]
    },
    {
      "cell_type": "code",
      "metadata": {
        "id": "My1Bo9p4Jmjf",
        "colab_type": "code",
        "outputId": "d946b777-9f43-4654-826b-30985680efc0",
        "colab": {
          "base_uri": "https://localhost:8080/",
          "height": 51
        }
      },
      "source": [
        "# 예제 3.25 : XOR 네트워크의 w, b 값 확인\n",
        "print('w :', w)\n",
        "print('b :', b)"
      ],
      "execution_count": 0,
      "outputs": [
        {
          "output_type": "stream",
          "text": [
            "w : tf.Tensor([ 5.1281754e-02 -7.4505806e-09], shape=(2,), dtype=float32)\n",
            "b : tf.Tensor([3.7252903e-09], shape=(1,), dtype=float32)\n"
          ],
          "name": "stdout"
        }
      ]
    },
    {
      "cell_type": "code",
      "metadata": {
        "id": "Fatl2IcVJxQo",
        "colab_type": "code",
        "outputId": "0cf0ea7b-3d27-481b-bbc4-9fcbc04bc2d2",
        "colab": {
          "base_uri": "https://localhost:8080/",
          "height": 221
        }
      },
      "source": [
        "# 예제 3.27 : tf.keras를 이용한 XOR 네트워크 계산\n",
        "import numpy as np\n",
        "x = np.array([[1, 1], [1, 0], [0, 1], [0, 0]])\n",
        "y = np.array([[0], [1], [1], [0]])\n",
        "\n",
        "model = tf.keras.Sequential([\n",
        "                             tf.keras.layers.Dense(units = 2, activation = 'sigmoid', input_shape = (2, )),\n",
        "                             tf.keras.layers.Dense(units = 1, activation = 'sigmoid')\n",
        "])\n",
        "\n",
        "model.compile(optimizer = tf.keras.optimizers.SGD(lr = 0.1), loss = 'mse')\n",
        "\n",
        "model.summary()"
      ],
      "execution_count": 0,
      "outputs": [
        {
          "output_type": "stream",
          "text": [
            "Model: \"sequential_1\"\n",
            "_________________________________________________________________\n",
            "Layer (type)                 Output Shape              Param #   \n",
            "=================================================================\n",
            "dense_2 (Dense)              (None, 2)                 6         \n",
            "_________________________________________________________________\n",
            "dense_3 (Dense)              (None, 1)                 3         \n",
            "=================================================================\n",
            "Total params: 9\n",
            "Trainable params: 9\n",
            "Non-trainable params: 0\n",
            "_________________________________________________________________\n"
          ],
          "name": "stdout"
        }
      ]
    },
    {
      "cell_type": "code",
      "metadata": {
        "id": "Nc0R7ML5Kw5v",
        "colab_type": "code",
        "colab": {}
      },
      "source": [
        "# 예제 3.28 : tf.keras를 이용한 2-레이어 XOR 네트워크 학습\n",
        "history = model.fit(x, y, epochs = 2000, batch_size = 1)"
      ],
      "execution_count": 0,
      "outputs": []
    },
    {
      "cell_type": "code",
      "metadata": {
        "id": "AZcRkq_JMxqf",
        "colab_type": "code",
        "outputId": "5a3fbcb7-8244-480b-b31f-998e45a0cefe",
        "colab": {
          "base_uri": "https://localhost:8080/",
          "height": 85
        }
      },
      "source": [
        "# 예제 3.29 : tf.keras를 이용한 2-레이어 XOR 네트워크 평가\n",
        "model.predict(x)"
      ],
      "execution_count": 0,
      "outputs": [
        {
          "output_type": "execute_result",
          "data": {
            "text/plain": [
              "array([[0.12440106],\n",
              "       [0.8501781 ],\n",
              "       [0.8606547 ],\n",
              "       [0.14353931]], dtype=float32)"
            ]
          },
          "metadata": {
            "tags": []
          },
          "execution_count": 10
        }
      ]
    },
    {
      "cell_type": "code",
      "metadata": {
        "id": "xtVGe51MM_6T",
        "colab_type": "code",
        "outputId": "ebb50926-6445-408d-fb90-0fd2a16ce08a",
        "colab": {
          "base_uri": "https://localhost:8080/",
          "height": 153
        }
      },
      "source": [
        "# 예제 3.30 : 2-레이어 XOR 네트워크의 가중치와 편향 확인\n",
        "for weight in model.weights:\n",
        "  print(weight)"
      ],
      "execution_count": 0,
      "outputs": [
        {
          "output_type": "stream",
          "text": [
            "<tf.Variable 'dense_2/kernel:0' shape=(2, 2) dtype=float32, numpy=\n",
            "array([[-4.4572587, -3.958479 ],\n",
            "       [ 4.6040115,  3.7387128]], dtype=float32)>\n",
            "<tf.Variable 'dense_2/bias:0' shape=(2,) dtype=float32, numpy=array([ 2.3944108, -2.0710657], dtype=float32)>\n",
            "<tf.Variable 'dense_3/kernel:0' shape=(2, 1) dtype=float32, numpy=\n",
            "array([[-5.1362967],\n",
            "       [ 5.527945 ]], dtype=float32)>\n",
            "<tf.Variable 'dense_3/bias:0' shape=(1,) dtype=float32, numpy=array([2.301899], dtype=float32)>\n"
          ],
          "name": "stdout"
        }
      ]
    }
  ]
}
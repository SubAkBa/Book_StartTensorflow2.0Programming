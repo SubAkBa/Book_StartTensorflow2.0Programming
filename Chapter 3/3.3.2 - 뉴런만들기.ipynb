{
  "nbformat": 4,
  "nbformat_minor": 0,
  "metadata": {
    "colab": {
      "name": "3.3.2 뉴런만들기",
      "provenance": [],
      "collapsed_sections": []
    },
    "kernelspec": {
      "name": "python3",
      "display_name": "Python 3"
    }
  },
  "cells": [
    {
      "cell_type": "code",
      "metadata": {
        "id": "8CRUMSW3NQAM",
        "colab_type": "code",
        "colab": {}
      },
      "source": [
        "# 예제 3.10 : 시그모이드 함수\n",
        "import math\n",
        "def sigmoid(x):\n",
        "  return 1 / (1 + math.exp(-x))"
      ],
      "execution_count": 0,
      "outputs": []
    },
    {
      "cell_type": "code",
      "metadata": {
        "id": "8b7xJtIIkWXc",
        "colab_type": "code",
        "outputId": "0bbc389e-871c-4a72-8c9b-c4bd4afedd8c",
        "colab": {
          "base_uri": "https://localhost:8080/",
          "height": 34
        }
      },
      "source": [
        "# 예제 3.11 : 뉴런의 입력과 출력 정의\n",
        "x = 1\n",
        "y = 0\n",
        "w = tf.random.normal([1], 0, 1)\n",
        "output = sigmoid(x * w)\n",
        "print(output)"
      ],
      "execution_count": 8,
      "outputs": [
        {
          "output_type": "stream",
          "text": [
            "0.4030960925450505\n"
          ],
          "name": "stdout"
        }
      ]
    },
    {
      "cell_type": "code",
      "metadata": {
        "id": "5bBdoIlrkaOl",
        "colab_type": "code",
        "outputId": "857dab5a-934d-43af-8e33-2d1045661394",
        "colab": {
          "base_uri": "https://localhost:8080/",
          "height": 187
        }
      },
      "source": [
        "# 예제 3.12 : 경사 하강법을 이용한 뉴런의 학습\n",
        "for i in range(1000):\n",
        "  output = sigmoid(x * w)\n",
        "  error = y - output\n",
        "  w = w + x * 0.1 * error\n",
        "\n",
        "  if i % 100 == 99:\n",
        "    print(i, error, output)"
      ],
      "execution_count": 9,
      "outputs": [
        {
          "output_type": "stream",
          "text": [
            "99 -0.09446483261321799 0.09446483261321799\n",
            "199 -0.05015835720922243 0.05015835720922243\n",
            "299 -0.033845329493348675 0.033845329493348675\n",
            "399 -0.025466479414626077 0.025466479414626077\n",
            "499 -0.02038704403643755 0.02038704403643755\n",
            "599 -0.016985477002995013 0.016985477002995013\n",
            "699 -0.014550894082492256 0.014550894082492256\n",
            "799 -0.0127234269570449 0.0127234269570449\n",
            "899 -0.011301849735769684 0.011301849735769684\n",
            "999 -0.010164753370388425 0.010164753370388425\n"
          ],
          "name": "stdout"
        }
      ]
    },
    {
      "cell_type": "code",
      "metadata": {
        "id": "5xZ12eNyk5vK",
        "colab_type": "code",
        "colab": {
          "base_uri": "https://localhost:8080/",
          "height": 187
        },
        "outputId": "3571e976-97bf-40ad-cee4-5be6f2479125"
      },
      "source": [
        "# 예제 3.13 x = 0일 때 y = 1을 얻는 뉴런의 학습\n",
        "x = 0\n",
        "y = 1\n",
        "w = tf.random.normal([1], 0, 1)\n",
        "\n",
        "for i in range(1000):\n",
        "  output = sigmoid(x * w)\n",
        "  error = 1 - output\n",
        "  w = w + x * 0.1 * error\n",
        "\n",
        "  if i % 100 == 99:\n",
        "    print(i, error, output)"
      ],
      "execution_count": 10,
      "outputs": [
        {
          "output_type": "stream",
          "text": [
            "99 0.5 0.5\n",
            "199 0.5 0.5\n",
            "299 0.5 0.5\n",
            "399 0.5 0.5\n",
            "499 0.5 0.5\n",
            "599 0.5 0.5\n",
            "699 0.5 0.5\n",
            "799 0.5 0.5\n",
            "899 0.5 0.5\n",
            "999 0.5 0.5\n"
          ],
          "name": "stdout"
        }
      ]
    },
    {
      "cell_type": "code",
      "metadata": {
        "id": "I5-j-VrH_04G",
        "colab_type": "code",
        "colab": {
          "base_uri": "https://localhost:8080/",
          "height": 187
        },
        "outputId": "44ff7dfb-3d9f-4579-cda6-cfb6c1454eb7"
      },
      "source": [
        "# 예제 3.14 : x = 0일 때 y = 1을 얻는 뉴런의 학습에 편향을 더함\n",
        "x = 0\n",
        "y = 1\n",
        "w = tf.random.normal([1], 0, 1)\n",
        "b = tf.random.normal([1], 0, 1)\n",
        "\n",
        "for i in range(1000):\n",
        "  output = sigmoid(x * w + 1 * b)\n",
        "  error = y - output\n",
        "  w = w + x * 0.1 * error\n",
        "  b = b + 1 * 0.1 * error\n",
        "\n",
        "  if i % 100 == 99:\n",
        "    print(i, error, output)"
      ],
      "execution_count": 11,
      "outputs": [
        {
          "output_type": "stream",
          "text": [
            "99 0.08949624692365465 0.9105037530763453\n",
            "199 0.04865953938674972 0.9513404606132503\n",
            "299 0.033145431479309484 0.9668545685206905\n",
            "399 0.025064986010443158 0.9749350139895568\n",
            "499 0.020127682923721024 0.979872317076279\n",
            "599 0.016804458271464928 0.9831955417285351\n",
            "699 0.014417513468236165 0.9855824865317638\n",
            "799 0.012621181314028451 0.9873788186859715\n",
            "899 0.011221003930451556 0.9887789960695484\n",
            "999 0.01009923525676315 0.9899007647432368\n"
          ],
          "name": "stdout"
        }
      ]
    }
  ]
}
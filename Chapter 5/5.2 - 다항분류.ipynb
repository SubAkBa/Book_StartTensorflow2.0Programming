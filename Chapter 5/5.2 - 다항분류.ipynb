{
  "nbformat": 4,
  "nbformat_minor": 0,
  "metadata": {
    "colab": {
      "name": "5.2 다항분류",
      "provenance": [],
      "collapsed_sections": []
    },
    "kernelspec": {
      "name": "python3",
      "display_name": "Python 3"
    }
  },
  "cells": [
    {
      "cell_type": "code",
      "metadata": {
        "id": "cBsffPHwyefs",
        "colab_type": "code",
        "colab": {}
      },
      "source": [
        "import pandas as pd\n",
        "red = pd.read_csv(\"http://archive.ics.uci.edu/ml/machine-learning-databases/wine-quality/winequality-red.csv\", sep = \";\")\n",
        "white = pd.read_csv(\"http://archive.ics.uci.edu/ml/machine-learning-databases/wine-quality/winequality-white.csv\", sep = \";\")\n",
        "\n",
        "red['type'] = 0\n",
        "white['type'] = 1\n",
        "\n",
        "wine = pd.concat([red, white])"
      ],
      "execution_count": 0,
      "outputs": []
    },
    {
      "cell_type": "code",
      "metadata": {
        "id": "Qi54MT-fyw4I",
        "colab_type": "code",
        "colab": {
          "base_uri": "https://localhost:8080/",
          "height": 306
        },
        "outputId": "06d8e093-c55e-4d24-ff90-22e8e50de5c8"
      },
      "source": [
        "# 예제 5.12 : 품질 데이터 확인\n",
        "print(wine['quality'].describe())\n",
        "print(wine['quality'].value_counts())"
      ],
      "execution_count": 2,
      "outputs": [
        {
          "output_type": "stream",
          "text": [
            "count    6497.000000\n",
            "mean        5.818378\n",
            "std         0.873255\n",
            "min         3.000000\n",
            "25%         5.000000\n",
            "50%         6.000000\n",
            "75%         6.000000\n",
            "max         9.000000\n",
            "Name: quality, dtype: float64\n",
            "6    2836\n",
            "5    2138\n",
            "7    1079\n",
            "4     216\n",
            "8     193\n",
            "3      30\n",
            "9       5\n",
            "Name: quality, dtype: int64\n"
          ],
          "name": "stdout"
        }
      ]
    },
    {
      "cell_type": "code",
      "metadata": {
        "id": "BTCdMe7GzGce",
        "colab_type": "code",
        "colab": {
          "base_uri": "https://localhost:8080/",
          "height": 265
        },
        "outputId": "ff39c609-7970-4d16-f79c-ab069116967c"
      },
      "source": [
        "# 예제 5.13 : 품질 히스토그램 시각화\n",
        "import matplotlib.pyplot as plt\n",
        "plt.hist(wine['quality'], bins = 7, rwidth = 0.8)\n",
        "plt.show()"
      ],
      "execution_count": 3,
      "outputs": [
        {
          "output_type": "display_data",
          "data": {
            "image/png": "[encoded data removed]",
            "text/plain": [
              "<Figure size 432x288 with 1 Axes>"
            ]
          },
          "metadata": {
            "tags": [],
            "needs_background": "light"
          }
        }
      ]
    },
    {
      "cell_type": "code",
      "metadata": {
        "id": "RHa5ch3qzVrV",
        "colab_type": "code",
        "colab": {
          "base_uri": "https://localhost:8080/",
          "height": 238
        },
        "outputId": "fce0ae55-57de-46c1-b40b-e05b4254f168"
      },
      "source": [
        "# 예제 5.14 : 품질을 3개의 범주 (좋음, 보통, 나쁨) 로 재분류\n",
        "wine.loc[wine['quality'] <= 5, 'new_quality'] = 0\n",
        "wine.loc[wine['quality'] == 6, 'new_quality'] = 1\n",
        "wine.loc[wine['quality'] >= 7, 'new_quality'] = 2\n",
        "\n",
        "print(wine['new_quality'].describe())\n",
        "print(wine['new_quality'].value_counts())"
      ],
      "execution_count": 5,
      "outputs": [
        {
          "output_type": "stream",
          "text": [
            "count    6497.000000\n",
            "mean        0.829614\n",
            "std         0.731124\n",
            "min         0.000000\n",
            "25%         0.000000\n",
            "50%         1.000000\n",
            "75%         1.000000\n",
            "max         2.000000\n",
            "Name: new_quality, dtype: float64\n",
            "1.0    2836\n",
            "0.0    2384\n",
            "2.0    1277\n",
            "Name: new_quality, dtype: int64\n"
          ],
          "name": "stdout"
        }
      ]
    },
    {
      "cell_type": "code",
      "metadata": {
        "id": "aH1iJkJNz0AN",
        "colab_type": "code",
        "colab": {
          "base_uri": "https://localhost:8080/",
          "height": 187
        },
        "outputId": "5a0fac80-9e43-4fc2-84ba-2439884e312b"
      },
      "source": [
        "data = [['Apple', 11], ['Banana', 23], ['Coconut', 35]]\n",
        "df = pd.DataFrame(data, columns = ['Fruit', 'Count'])\n",
        "print(df)\n",
        "print()\n",
        "print(df.loc[0])\n",
        "print()\n",
        "print(df.loc[0, 'Fruit'])"
      ],
      "execution_count": 7,
      "outputs": [
        {
          "output_type": "stream",
          "text": [
            "     Fruit  Count\n",
            "0    Apple     11\n",
            "1   Banana     23\n",
            "2  Coconut     35\n",
            "\n",
            "Fruit    Apple\n",
            "Count       11\n",
            "Name: 0, dtype: object\n",
            "\n",
            "Apple\n"
          ],
          "name": "stdout"
        }
      ]
    },
    {
      "cell_type": "code",
      "metadata": {
        "id": "1ltMVdRO0OjV",
        "colab_type": "code",
        "colab": {}
      },
      "source": [
        "# 예제 5.15 : 데이터 정규화 및 훈련 데이터와 테스트 데이터 분리\n",
        "import tensorflow as tf\n",
        "\n",
        "# del wine['quality']\n",
        "wine_norm = (wine - wine.min()) / (wine.max() - wine.min())\n",
        "wine_shuffle = wine_norm.sample(frac = 1)\n",
        "wine_np = wine_shuffle.to_numpy()\n",
        "\n",
        "train_idx = int(len(wine_np) * 0.8)\n",
        "train_X, train_Y = wine_np[: train_idx, : -1], wine_np[: train_idx, -1]\n",
        "test_X, test_Y = wine_np[train_idx :, : -1], wine_np[train_idx : , -1]\n",
        "train_Y = tf.keras.utils.to_categorical(train_Y, num_classes = 3)\n",
        "test_Y = tf.keras.utils.to_categorical(test_Y, num_classes = 3)"
      ],
      "execution_count": 0,
      "outputs": []
    },
    {
      "cell_type": "code",
      "metadata": {
        "id": "66cn5En-2xc7",
        "colab_type": "code",
        "colab": {}
      },
      "source": [
        "# 예제 5.16 : 와인 데이터세트 다항 분류 모델 생성 및 학습\n",
        "\n",
        "model = tf.keras.Sequential([\n",
        "                             tf.keras.layers.Dense(units = 48, activation = 'relu', input_shape = (12, )),\n",
        "                             tf.keras.layers.Dense(units = 24, activation = 'relu'),\n",
        "                             tf.keras.layers.Dense(units = 12, activation = 'relu'),\n",
        "                             tf.keras.layers.Dense(units = 3, activation = 'softmax')\n",
        "])\n",
        "\n",
        "model.compile(optimizer = tf.keras.optimizers.Adam(lr = 0.07), loss = 'categorical_crossentropy', metrics = ['accuracy'])\n",
        "\n",
        "history = model.fit(train_X, train_Y, epochs = 25, batch_size = 32, validation_split = 0.25)"
      ],
      "execution_count": 0,
      "outputs": []
    },
    {
      "cell_type": "code",
      "metadata": {
        "id": "TLTiK4p33avi",
        "colab_type": "code",
        "colab": {
          "base_uri": "https://localhost:8080/",
          "height": 283
        },
        "outputId": "ae140eb4-1d06-4640-a094-ba71b0374623"
      },
      "source": [
        "# 예제 5.17 : 다항 분류 모델 학습 결과 시각화\n",
        "import matplotlib.pyplot as plt\n",
        "\n",
        "plt.figure(figsize = (12, 4))\n",
        "\n",
        "plt.subplot(1, 2, 1)\n",
        "plt.plot(history.history['loss'], 'b-', label = 'loss')\n",
        "plt.plot(history.history['val_loss'], 'r--', label = 'val_loss')\n",
        "plt.xlabel('Epoch')\n",
        "plt.legend()\n",
        "\n",
        "plt.subplot(1, 2, 2)\n",
        "plt.plot(history.history['accuracy'], 'g-', label = 'accuracy')\n",
        "plt.plot(history.history['val_accuracy'], 'k--', label = 'val_accuracy')\n",
        "plt.xlabel('Epoch')\n",
        "plt.ylim(0.7, 1)\n",
        "plt.legend()\n",
        "\n",
        "plt.show()"
      ],
      "execution_count": 19,
      "outputs": [
        {
          "output_type": "display_data",
          "data": {
            "image/png": "[encoded data removed]",
            "text/plain": [
              "<Figure size 864x288 with 2 Axes>"
            ]
          },
          "metadata": {
            "tags": [],
            "needs_background": "light"
          }
        }
      ]
    },
    {
      "cell_type": "code",
      "metadata": {
        "id": "tA81LBmV4qn7",
        "colab_type": "code",
        "colab": {
          "base_uri": "https://localhost:8080/",
          "height": 51
        },
        "outputId": "e1b8e1fe-ab8e-4140-a37b-8084fab5f8d9"
      },
      "source": [
        "# 예제 5.18 : 다항 분류 모델 평가\n",
        "model.evaluate(test_X, test_Y)"
      ],
      "execution_count": 20,
      "outputs": [
        {
          "output_type": "stream",
          "text": [
            "41/41 [==============================] - 0s 1ms/step - loss: 0.4220 - accuracy: 0.8215\n"
          ],
          "name": "stdout"
        },
        {
          "output_type": "execute_result",
          "data": {
            "text/plain": [
              "[0.4219834804534912, 0.8215384483337402]"
            ]
          },
          "metadata": {
            "tags": []
          },
          "execution_count": 20
        }
      ]
    }
  ]
}
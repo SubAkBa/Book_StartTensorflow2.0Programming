{
  "nbformat": 4,
  "nbformat_minor": 0,
  "metadata": {
    "colab": {
      "name": "5.1 이항 분류",
      "provenance": [],
      "collapsed_sections": []
    },
    "kernelspec": {
      "name": "python3",
      "display_name": "Python 3"
    }
  },
  "cells": [
    {
      "cell_type": "code",
      "metadata": {
        "id": "iZHh02CAmC6d",
        "colab_type": "code",
        "colab": {
          "base_uri": "https://localhost:8080/",
          "height": 289
        },
        "outputId": "6e6951d7-2a76-4275-9b7f-f0fcce70ffed"
      },
      "source": [
        "# 예제 5.1 : 와인 데이터세트 불러오기\n",
        "import pandas as pd\n",
        "red = pd.read_csv(\"http://archive.ics.uci.edu/ml/machine-learning-databases/wine-quality/winequality-red.csv\", sep = \";\")\n",
        "white = pd.read_csv(\"http://archive.ics.uci.edu/ml/machine-learning-databases/wine-quality/winequality-white.csv\", sep = \";\")\n",
        "\n",
        "print(red.head())\n",
        "print(white.head())\n",
        "\n",
        "# fixed acidity : 주석산 (Tartaric acid)\n",
        "# volatile acidity : 초산 (Acetic acid)\n",
        "# critic acid : 구연산\n",
        "# residual sugar : 당도\n",
        "# chlorides : 염화물 (소금)\n",
        "# free sulfur dioxide : 자유 이산화황 (산화 방지제, 방부제 역할)\n",
        "# total sulfur dioxide : 총 이산화황\n",
        "# density : 밀도\n",
        "# pH : 산도\n",
        "# sulphates : 황산칼륨\n",
        "# alcohol : 알코올 도수\n",
        "# quality : 품질 (0 ~ 10)"
      ],
      "execution_count": 17,
      "outputs": [
        {
          "output_type": "stream",
          "text": [
            "   fixed acidity  volatile acidity  citric acid  ...  sulphates  alcohol  quality\n",
            "0            7.4              0.70         0.00  ...       0.56      9.4        5\n",
            "1            7.8              0.88         0.00  ...       0.68      9.8        5\n",
            "2            7.8              0.76         0.04  ...       0.65      9.8        5\n",
            "3           11.2              0.28         0.56  ...       0.58      9.8        6\n",
            "4            7.4              0.70         0.00  ...       0.56      9.4        5\n",
            "\n",
            "[5 rows x 12 columns]\n",
            "   fixed acidity  volatile acidity  citric acid  ...  sulphates  alcohol  quality\n",
            "0            7.0              0.27         0.36  ...       0.45      8.8        6\n",
            "1            6.3              0.30         0.34  ...       0.49      9.5        6\n",
            "2            8.1              0.28         0.40  ...       0.44     10.1        6\n",
            "3            7.2              0.23         0.32  ...       0.40      9.9        6\n",
            "4            7.2              0.23         0.32  ...       0.40      9.9        6\n",
            "\n",
            "[5 rows x 12 columns]\n"
          ],
          "name": "stdout"
        }
      ]
    },
    {
      "cell_type": "code",
      "metadata": {
        "id": "f73-4w3VqaFa",
        "colab_type": "code",
        "colab": {
          "base_uri": "https://localhost:8080/",
          "height": 374
        },
        "outputId": "7d363ead-addb-4736-bd80-fe98fbfe7b32"
      },
      "source": [
        "# 예제 5.2 : 와인 데이터세트 합치기\n",
        "red['type'] = 0\n",
        "white['type'] = 1\n",
        "print(red.head(2))\n",
        "print(white.head(2))\n",
        "\n",
        "wine = pd.concat([red, white])\n",
        "print(wine.describe())"
      ],
      "execution_count": 18,
      "outputs": [
        {
          "output_type": "stream",
          "text": [
            "   fixed acidity  volatile acidity  citric acid  ...  alcohol  quality  type\n",
            "0            7.4              0.70          0.0  ...      9.4        5     0\n",
            "1            7.8              0.88          0.0  ...      9.8        5     0\n",
            "\n",
            "[2 rows x 13 columns]\n",
            "   fixed acidity  volatile acidity  citric acid  ...  alcohol  quality  type\n",
            "0            7.0              0.27         0.36  ...      8.8        6     1\n",
            "1            6.3              0.30         0.34  ...      9.5        6     1\n",
            "\n",
            "[2 rows x 13 columns]\n",
            "       fixed acidity  volatile acidity  ...      quality         type\n",
            "count    6497.000000       6497.000000  ...  6497.000000  6497.000000\n",
            "mean        7.215307          0.339666  ...     5.818378     0.753886\n",
            "std         1.296434          0.164636  ...     0.873255     0.430779\n",
            "min         3.800000          0.080000  ...     3.000000     0.000000\n",
            "25%         6.400000          0.230000  ...     5.000000     1.000000\n",
            "50%         7.000000          0.290000  ...     6.000000     1.000000\n",
            "75%         7.700000          0.400000  ...     6.000000     1.000000\n",
            "max        15.900000          1.580000  ...     9.000000     1.000000\n",
            "\n",
            "[8 rows x 13 columns]\n"
          ],
          "name": "stdout"
        }
      ]
    },
    {
      "cell_type": "code",
      "metadata": {
        "id": "_Db1JJuarvFF",
        "colab_type": "code",
        "colab": {
          "base_uri": "https://localhost:8080/",
          "height": 316
        },
        "outputId": "961364dc-3a05-4187-fb13-f1bfb52b66f6"
      },
      "source": [
        "# 예제 5.3 : 레드 와인과 화이트 와인에 대한 type 히스토그램\n",
        "import matplotlib.pyplot as plt\n",
        "plt.hist(wine['type'])\n",
        "plt.xticks([0, 1])\n",
        "plt.show()\n",
        "\n",
        "print(wine['type'].value_counts())"
      ],
      "execution_count": 19,
      "outputs": [
        {
          "output_type": "display_data",
          "data": {
            "image/png": "[encoded data removed]",
            "text/plain": [
              "<Figure size 432x288 with 1 Axes>"
            ]
          },
          "metadata": {
            "tags": [],
            "needs_background": "light"
          }
        },
        {
          "output_type": "stream",
          "text": [
            "1    4898\n",
            "0    1599\n",
            "Name: type, dtype: int64\n"
          ],
          "name": "stdout"
        }
      ]
    },
    {
      "cell_type": "code",
      "metadata": {
        "id": "5H6vfH9_sEtn",
        "colab_type": "code",
        "colab": {
          "base_uri": "https://localhost:8080/",
          "height": 374
        },
        "outputId": "309f3016-34ae-4c72-eaa2-d6f4cfe84cbc"
      },
      "source": [
        "# 예제 5.4 : 데이터 요약 정보 확인\n",
        "print(wine.info())"
      ],
      "execution_count": 20,
      "outputs": [
        {
          "output_type": "stream",
          "text": [
            "<class 'pandas.core.frame.DataFrame'>\n",
            "Int64Index: 6497 entries, 0 to 4897\n",
            "Data columns (total 13 columns):\n",
            " #   Column                Non-Null Count  Dtype  \n",
            "---  ------                --------------  -----  \n",
            " 0   fixed acidity         6497 non-null   float64\n",
            " 1   volatile acidity      6497 non-null   float64\n",
            " 2   citric acid           6497 non-null   float64\n",
            " 3   residual sugar        6497 non-null   float64\n",
            " 4   chlorides             6497 non-null   float64\n",
            " 5   free sulfur dioxide   6497 non-null   float64\n",
            " 6   total sulfur dioxide  6497 non-null   float64\n",
            " 7   density               6497 non-null   float64\n",
            " 8   pH                    6497 non-null   float64\n",
            " 9   sulphates             6497 non-null   float64\n",
            " 10  alcohol               6497 non-null   float64\n",
            " 11  quality               6497 non-null   int64  \n",
            " 12  type                  6497 non-null   int64  \n",
            "dtypes: float64(11), int64(2)\n",
            "memory usage: 710.6 KB\n",
            "None\n"
          ],
          "name": "stdout"
        }
      ]
    },
    {
      "cell_type": "code",
      "metadata": {
        "id": "Y1FFjS77A6fR",
        "colab_type": "code",
        "colab": {
          "base_uri": "https://localhost:8080/",
          "height": 340
        },
        "outputId": "3c5781d5-51f3-4cb1-ec34-69d05e1d4b10"
      },
      "source": [
        "# 예제 5.5 : 데이터 정규화\n",
        "wine_norm = (wine - wine.min()) / (wine.max() - wine.min())\n",
        "print(wine_norm.head())\n",
        "print(wine_norm.describe())"
      ],
      "execution_count": 21,
      "outputs": [
        {
          "output_type": "stream",
          "text": [
            "   fixed acidity  volatile acidity  citric acid  ...   alcohol   quality  type\n",
            "0       0.297521          0.413333     0.000000  ...  0.202899  0.333333   0.0\n",
            "1       0.330579          0.533333     0.000000  ...  0.260870  0.333333   0.0\n",
            "2       0.330579          0.453333     0.024096  ...  0.260870  0.333333   0.0\n",
            "3       0.611570          0.133333     0.337349  ...  0.260870  0.500000   0.0\n",
            "4       0.297521          0.413333     0.000000  ...  0.202899  0.333333   0.0\n",
            "\n",
            "[5 rows x 13 columns]\n",
            "       fixed acidity  volatile acidity  ...      quality         type\n",
            "count    6497.000000       6497.000000  ...  6497.000000  6497.000000\n",
            "mean        0.282257          0.173111  ...     0.469730     0.753886\n",
            "std         0.107143          0.109758  ...     0.145543     0.430779\n",
            "min         0.000000          0.000000  ...     0.000000     0.000000\n",
            "25%         0.214876          0.100000  ...     0.333333     1.000000\n",
            "50%         0.264463          0.140000  ...     0.500000     1.000000\n",
            "75%         0.322314          0.213333  ...     0.500000     1.000000\n",
            "max         1.000000          1.000000  ...     1.000000     1.000000\n",
            "\n",
            "[8 rows x 13 columns]\n"
          ],
          "name": "stdout"
        }
      ]
    },
    {
      "cell_type": "code",
      "metadata": {
        "id": "tj-8l986BJNK",
        "colab_type": "code",
        "colab": {
          "base_uri": "https://localhost:8080/",
          "height": 408
        },
        "outputId": "6eaae4a7-653d-4b8a-eaa1-046cd46ade54"
      },
      "source": [
        "# 예제 5.6 : 데이터를 섞은 후 넘파이 array로 변환\n",
        "import numpy as np\n",
        "wine_shuffle = wine_norm.sample(frac = 1)\n",
        "print(wine_shuffle.head())\n",
        "\n",
        "wine_np = wine_shuffle.to_numpy()\n",
        "print(wine_np[:5])"
      ],
      "execution_count": 22,
      "outputs": [
        {
          "output_type": "stream",
          "text": [
            "      fixed acidity  volatile acidity  citric acid  ...   alcohol   quality  type\n",
            "2772       0.198347          0.140000     0.192771  ...  0.739130  0.666667   1.0\n",
            "763        0.454545          0.383333     0.156627  ...  0.231884  0.333333   0.0\n",
            "2453       0.206612          0.080000     0.156627  ...  0.405797  0.500000   1.0\n",
            "678        0.371901          0.466667     0.060241  ...  0.289855  0.333333   0.0\n",
            "2872       0.033058          0.060000     0.216867  ...  0.579710  0.666667   1.0\n",
            "\n",
            "[5 rows x 13 columns]\n",
            "[[0.19834711 0.14       0.19277108 0.04601227 0.0282392  0.13194444\n",
            "  0.30414747 0.04029304 0.45736434 0.08426966 0.73913043 0.66666667\n",
            "  1.        ]\n",
            " [0.45454545 0.38333333 0.15662651 0.02147239 0.14451827 0.01388889\n",
            "  0.06682028 0.19799499 0.41085271 0.11235955 0.23188406 0.33333333\n",
            "  0.        ]\n",
            " [0.20661157 0.08       0.15662651 0.01533742 0.02990033 0.12152778\n",
            "  0.31105991 0.10738384 0.62790698 0.19101124 0.4057971  0.5\n",
            "  1.        ]\n",
            " [0.37190083 0.46666667 0.06024096 0.03067485 0.11960133 0.15277778\n",
            "  0.18663594 0.21573164 0.58914729 0.1741573  0.28985507 0.33333333\n",
            "  0.        ]\n",
            " [0.03305785 0.06       0.21686747 0.01840491 0.03322259 0.31944444\n",
            "  0.35714286 0.05552342 0.72093023 0.37640449 0.57971014 0.66666667\n",
            "  1.        ]]\n"
          ],
          "name": "stdout"
        }
      ]
    },
    {
      "cell_type": "code",
      "metadata": {
        "id": "nVCOPLwsBp0s",
        "colab_type": "code",
        "colab": {
          "base_uri": "https://localhost:8080/",
          "height": 119
        },
        "outputId": "afd321e8-abd7-4c5a-dbf5-1540c32c36ea"
      },
      "source": [
        "# 예제 5.7 : 훈련 데이터와 테스트 데이터로 분리\n",
        "import tensorflow as tf\n",
        "train_idx = int(len(wine_np) * 0.8)\n",
        "train_X, train_Y = wine_np[:train_idx, :-1], wine_np[:train_idx, -1]\n",
        "test_X, test_Y = wine_np[train_idx:, :-1], wine_np[train_idx:, -1]\n",
        "print(train_X[0])\n",
        "print(train_Y[0])\n",
        "print(test_X[0])\n",
        "print(test_Y[0])\n",
        "\n",
        "# train_Y = tf.keras.utils.to_categorical(train_Y, num_classes = 2)\n",
        "# test_Y = tf.keras.utils.to_categorical(test_Y, num_classes = 2)\n",
        "# print(train_Y[0])\n",
        "# print(test_Y[0])"
      ],
      "execution_count": 41,
      "outputs": [
        {
          "output_type": "stream",
          "text": [
            "[0.19834711 0.14       0.19277108 0.04601227 0.0282392  0.13194444\n",
            " 0.30414747 0.04029304 0.45736434 0.08426966 0.73913043 0.66666667]\n",
            "1.0\n",
            "[0.20661157 0.20666667 0.21084337 0.08128834 0.05149502 0.28298611\n",
            " 0.58525346 0.13475998 0.31007752 0.24719101 0.30434783 0.33333333]\n",
            "1.0\n"
          ],
          "name": "stdout"
        }
      ]
    },
    {
      "cell_type": "code",
      "metadata": {
        "id": "fmabQzBODQY5",
        "colab_type": "code",
        "colab": {
          "base_uri": "https://localhost:8080/",
          "height": 289
        },
        "outputId": "b9185854-9159-43b7-cc21-75e944762ac9"
      },
      "source": [
        "# 예제 5.8 : 와인 데이터세트 분류 모델 생성\n",
        "import tensorflow as tf\n",
        "model = tf.keras.Sequential([\n",
        "                             tf.keras.layers.Dense(units = 48, activation = 'relu', input_shape = (12, )),\n",
        "                             tf.keras.layers.Dense(units = 24, activation = 'relu'),\n",
        "                             tf.keras.layers.Dense(units = 12, activation = 'relu'),\n",
        "                             tf.keras.layers.Dense(units = 2, activation = 'softmax')\n",
        "])\n",
        "\n",
        "model.compile(optimizer = tf.keras.optimizers.Adam(lr = 0.07), loss = 'sparse_categorical_crossentropy', metrics = ['accuracy'])\n",
        "\n",
        "model.summary()"
      ],
      "execution_count": 43,
      "outputs": [
        {
          "output_type": "stream",
          "text": [
            "Model: \"sequential_8\"\n",
            "_________________________________________________________________\n",
            "Layer (type)                 Output Shape              Param #   \n",
            "=================================================================\n",
            "dense_33 (Dense)             (None, 48)                624       \n",
            "_________________________________________________________________\n",
            "dense_34 (Dense)             (None, 24)                1176      \n",
            "_________________________________________________________________\n",
            "dense_35 (Dense)             (None, 12)                300       \n",
            "_________________________________________________________________\n",
            "dense_36 (Dense)             (None, 2)                 26        \n",
            "=================================================================\n",
            "Total params: 2,126\n",
            "Trainable params: 2,126\n",
            "Non-trainable params: 0\n",
            "_________________________________________________________________\n"
          ],
          "name": "stdout"
        }
      ]
    },
    {
      "cell_type": "code",
      "metadata": {
        "id": "0FjetOJ6Exx0",
        "colab_type": "code",
        "colab": {}
      },
      "source": [
        "# 예제 5.9 : 와인 데이터세트에 대한 분류 모델 학습\n",
        "history = model.fit(train_X, train_Y, epochs = 25, batch_size = 32, validation_split = 0.25)"
      ],
      "execution_count": 0,
      "outputs": []
    },
    {
      "cell_type": "code",
      "metadata": {
        "id": "zBmc0YlrTlNO",
        "colab_type": "code",
        "colab": {
          "base_uri": "https://localhost:8080/",
          "height": 283
        },
        "outputId": "f00632ec-7211-4739-a2a8-de823823e5dc"
      },
      "source": [
        "# 예제 5.10 : 분류 모델의 학습 결과 시각화\n",
        "import matplotlib.pyplot as plt\n",
        "\n",
        "plt.figure(figsize = (12, 4))\n",
        "plt.subplot(1, 2, 1)\n",
        "plt.plot(history.history['loss'], 'b-', label = 'loss')\n",
        "plt.plot(history.history['val_loss'], 'r--', label = 'val_loss')\n",
        "plt.xlabel('Epoch')\n",
        "plt.legend()\n",
        "\n",
        "plt.subplot(1, 2, 2)\n",
        "plt.plot(history.history['accuracy'], 'g-', label = 'accuracy')\n",
        "plt.plot(history.history['val_accuracy'], 'k--', label = 'val_accuracy')\n",
        "plt.xlabel('Epoch')\n",
        "plt.ylim(0.7, 1)\n",
        "plt.legend()\n",
        "\n",
        "plt.show()"
      ],
      "execution_count": 45,
      "outputs": [
        {
          "output_type": "display_data",
          "data": {
            "image/png": "[encoded data removed]",
            "text/plain": [
              "<Figure size 864x288 with 2 Axes>"
            ]
          },
          "metadata": {
            "tags": [],
            "needs_background": "light"
          }
        }
      ]
    },
    {
      "cell_type": "code",
      "metadata": {
        "id": "W2NjUTuyUwon",
        "colab_type": "code",
        "colab": {
          "base_uri": "https://localhost:8080/",
          "height": 51
        },
        "outputId": "7ca2a3f8-7f94-449f-83b2-fa75b50abb85"
      },
      "source": [
        "model.evaluate(test_X, test_Y)"
      ],
      "execution_count": 46,
      "outputs": [
        {
          "output_type": "stream",
          "text": [
            "41/41 [==============================] - 0s 1ms/step - loss: 0.0189 - accuracy: 0.9962\n"
          ],
          "name": "stdout"
        },
        {
          "output_type": "execute_result",
          "data": {
            "text/plain": [
              "[0.01887059397995472, 0.9961538314819336]"
            ]
          },
          "metadata": {
            "tags": []
          },
          "execution_count": 46
        }
      ]
    }
  ]
}
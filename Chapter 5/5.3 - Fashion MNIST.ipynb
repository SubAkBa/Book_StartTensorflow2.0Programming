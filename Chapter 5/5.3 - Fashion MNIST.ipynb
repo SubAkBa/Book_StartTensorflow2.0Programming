{
  "nbformat": 4,
  "nbformat_minor": 0,
  "metadata": {
    "colab": {
      "name": "5.3 - Fashion MNIST",
      "provenance": [],
      "collapsed_sections": []
    },
    "kernelspec": {
      "name": "python3",
      "display_name": "Python 3"
    }
  },
  "cells": [
    {
      "cell_type": "code",
      "metadata": {
        "id": "vkKc-NsJ5P7z",
        "colab_type": "code",
        "colab": {
          "base_uri": "https://localhost:8080/",
          "height": 170
        },
        "outputId": "0ecb65f9-fe06-4efb-caca-324d1e8032de"
      },
      "source": [
        "# Fashion MNIST\n",
        "# 라벨 : 범주\n",
        "# 0   : 티셔츠 / 상의\n",
        "# 1   : 바지\n",
        "# 2   : 스웨터\n",
        "# 3   : 드레스\n",
        "# 4   : 코트\n",
        "# 5   : 샌들\n",
        "# 6   : 셔츠\n",
        "# 7   : 운동화\n",
        "# 8   : 가방\n",
        "# 9   : 부츠\n",
        "\n",
        "# 예제 5.19 : Fashion MNIST 데이터세트 불러오기\n",
        "import tensorflow as tf\n",
        "\n",
        "fashion_mnist = tf.keras.datasets.fashion_mnist\n",
        "(train_X, train_Y), (test_X, test_Y) = fashion_mnist.load_data()\n",
        "\n",
        "print(len(train_X), len(test_X))"
      ],
      "execution_count": 2,
      "outputs": [
        {
          "output_type": "stream",
          "text": [
            "Downloading data from https://storage.googleapis.com/tensorflow/tf-keras-datasets/train-labels-idx1-ubyte.gz\n",
            "32768/29515 [=================================] - 0s 0us/step\n",
            "Downloading data from https://storage.googleapis.com/tensorflow/tf-keras-datasets/train-images-idx3-ubyte.gz\n",
            "26427392/26421880 [==============================] - 0s 0us/step\n",
            "Downloading data from https://storage.googleapis.com/tensorflow/tf-keras-datasets/t10k-labels-idx1-ubyte.gz\n",
            "8192/5148 [===============================================] - 0s 0us/step\n",
            "Downloading data from https://storage.googleapis.com/tensorflow/tf-keras-datasets/t10k-images-idx3-ubyte.gz\n",
            "4423680/4422102 [==============================] - 0s 0us/step\n",
            "60000 10000\n"
          ],
          "name": "stdout"
        }
      ]
    },
    {
      "cell_type": "code",
      "metadata": {
        "id": "7FNio9SO50Ak",
        "colab_type": "code",
        "colab": {
          "base_uri": "https://localhost:8080/",
          "height": 282
        },
        "outputId": "779682ca-1ebc-4359-9e92-806a8ab8a279"
      },
      "source": [
        "# 예제 5.20 : 데이터 확인\n",
        "import matplotlib.pyplot as plt\n",
        "\n",
        "plt.imshow(train_X[0], cmap = 'gray')\n",
        "plt.colorbar()\n",
        "plt.show()\n",
        "\n",
        "print(train_Y[0])"
      ],
      "execution_count": 3,
      "outputs": [
        {
          "output_type": "display_data",
          "data": {
            "image/png": "[encoded data removed]",
            "text/plain": [
              "<Figure size 432x288 with 2 Axes>"
            ]
          },
          "metadata": {
            "tags": [],
            "needs_background": "light"
          }
        },
        {
          "output_type": "stream",
          "text": [
            "9\n"
          ],
          "name": "stdout"
        }
      ]
    },
    {
      "cell_type": "code",
      "metadata": {
        "id": "eVg25S2q6Zem",
        "colab_type": "code",
        "colab": {}
      },
      "source": [
        "# 예제 5.21 : 데이터 정규화\n",
        "train_X = train_X / 255.0\n",
        "test_X = test_X / 255.0\n",
        "\n",
        "print(train_X[0])"
      ],
      "execution_count": 0,
      "outputs": []
    },
    {
      "cell_type": "code",
      "metadata": {
        "id": "j5R0wzaZ6_s3",
        "colab_type": "code",
        "colab": {
          "base_uri": "https://localhost:8080/",
          "height": 255
        },
        "outputId": "60d55da9-b9ef-45b2-cb50-1a1db36c2cca"
      },
      "source": [
        "# 예제 5.22 : Fashion MNIST 분류 모델\n",
        "model = tf.keras.Sequential([\n",
        "                             tf.keras.layers.Flatten(input_shape = (28, 28)), # 2차원 array이므로 데이터를 일렬로 정렬하기 위해\n",
        "                             tf.keras.layers.Dense(units = 128, activation = 'relu'),\n",
        "                             tf.keras.layers.Dense(units = 10, activation = 'softmax')\n",
        "])\n",
        "\n",
        "model.compile(optimizer = tf.keras.optimizers.Adam(), # 기본 Adam 옵티마이즈 learning rate (0.001) 사용\n",
        "              loss = 'sparse_categorical_crossentropy',\n",
        "              metrics = ['accuracy'])\n",
        "\n",
        "model.summary()"
      ],
      "execution_count": 5,
      "outputs": [
        {
          "output_type": "stream",
          "text": [
            "Model: \"sequential\"\n",
            "_________________________________________________________________\n",
            "Layer (type)                 Output Shape              Param #   \n",
            "=================================================================\n",
            "flatten (Flatten)            (None, 784)               0         \n",
            "_________________________________________________________________\n",
            "dense (Dense)                (None, 128)               100480    \n",
            "_________________________________________________________________\n",
            "dense_1 (Dense)              (None, 10)                1290      \n",
            "=================================================================\n",
            "Total params: 101,770\n",
            "Trainable params: 101,770\n",
            "Non-trainable params: 0\n",
            "_________________________________________________________________\n"
          ],
          "name": "stdout"
        }
      ]
    },
    {
      "cell_type": "code",
      "metadata": {
        "id": "IZ1sKKJ27u_P",
        "colab_type": "code",
        "colab": {
          "base_uri": "https://localhost:8080/",
          "height": 867
        },
        "outputId": "f869e665-7d6d-4799-a5f7-38cc6aebce3a"
      },
      "source": [
        "# 예제 5.23 : Fashion MNIST 분류 모델 학습\n",
        "history = model.fit(train_X, train_Y, epochs = 25, validation_split = 0.25)"
      ],
      "execution_count": 6,
      "outputs": [
        {
          "output_type": "stream",
          "text": [
            "Epoch 1/25\n",
            "1407/1407 [==============================] - 4s 3ms/step - loss: 0.5181 - accuracy: 0.8178 - val_loss: 0.4191 - val_accuracy: 0.8502\n",
            "Epoch 2/25\n",
            "1407/1407 [==============================] - 3s 2ms/step - loss: 0.3868 - accuracy: 0.8609 - val_loss: 0.3722 - val_accuracy: 0.8669\n",
            "Epoch 3/25\n",
            "1407/1407 [==============================] - 3s 2ms/step - loss: 0.3454 - accuracy: 0.8729 - val_loss: 0.3649 - val_accuracy: 0.8665\n",
            "Epoch 4/25\n",
            "1407/1407 [==============================] - 4s 3ms/step - loss: 0.3196 - accuracy: 0.8830 - val_loss: 0.3629 - val_accuracy: 0.8693\n",
            "Epoch 5/25\n",
            "1407/1407 [==============================] - 4s 3ms/step - loss: 0.3008 - accuracy: 0.8889 - val_loss: 0.3283 - val_accuracy: 0.8847\n",
            "Epoch 6/25\n",
            "1407/1407 [==============================] - 3s 2ms/step - loss: 0.2847 - accuracy: 0.8948 - val_loss: 0.3483 - val_accuracy: 0.8730\n",
            "Epoch 7/25\n",
            "1407/1407 [==============================] - 3s 2ms/step - loss: 0.2702 - accuracy: 0.8995 - val_loss: 0.3288 - val_accuracy: 0.8823\n",
            "Epoch 8/25\n",
            "1407/1407 [==============================] - 3s 2ms/step - loss: 0.2578 - accuracy: 0.9042 - val_loss: 0.3199 - val_accuracy: 0.8853\n",
            "Epoch 9/25\n",
            "1407/1407 [==============================] - 3s 2ms/step - loss: 0.2483 - accuracy: 0.9074 - val_loss: 0.3299 - val_accuracy: 0.8831\n",
            "Epoch 10/25\n",
            "1407/1407 [==============================] - 3s 2ms/step - loss: 0.2370 - accuracy: 0.9110 - val_loss: 0.3189 - val_accuracy: 0.8873\n",
            "Epoch 11/25\n",
            "1407/1407 [==============================] - 3s 2ms/step - loss: 0.2321 - accuracy: 0.9129 - val_loss: 0.3323 - val_accuracy: 0.8841\n",
            "Epoch 12/25\n",
            "1407/1407 [==============================] - 3s 2ms/step - loss: 0.2243 - accuracy: 0.9160 - val_loss: 0.3224 - val_accuracy: 0.8871\n",
            "Epoch 13/25\n",
            "1407/1407 [==============================] - 3s 2ms/step - loss: 0.2155 - accuracy: 0.9194 - val_loss: 0.3228 - val_accuracy: 0.8859\n",
            "Epoch 14/25\n",
            "1407/1407 [==============================] - 3s 2ms/step - loss: 0.2079 - accuracy: 0.9225 - val_loss: 0.3240 - val_accuracy: 0.8882\n",
            "Epoch 15/25\n",
            "1407/1407 [==============================] - 3s 2ms/step - loss: 0.2028 - accuracy: 0.9246 - val_loss: 0.3530 - val_accuracy: 0.8793\n",
            "Epoch 16/25\n",
            "1407/1407 [==============================] - 3s 2ms/step - loss: 0.1937 - accuracy: 0.9278 - val_loss: 0.3491 - val_accuracy: 0.8821\n",
            "Epoch 17/25\n",
            "1407/1407 [==============================] - 3s 2ms/step - loss: 0.1920 - accuracy: 0.9278 - val_loss: 0.3393 - val_accuracy: 0.8897\n",
            "Epoch 18/25\n",
            "1407/1407 [==============================] - 3s 2ms/step - loss: 0.1857 - accuracy: 0.9309 - val_loss: 0.3289 - val_accuracy: 0.8907\n",
            "Epoch 19/25\n",
            "1407/1407 [==============================] - 3s 2ms/step - loss: 0.1780 - accuracy: 0.9321 - val_loss: 0.3318 - val_accuracy: 0.8885\n",
            "Epoch 20/25\n",
            "1407/1407 [==============================] - 3s 2ms/step - loss: 0.1751 - accuracy: 0.9349 - val_loss: 0.3391 - val_accuracy: 0.8896\n",
            "Epoch 21/25\n",
            "1407/1407 [==============================] - 3s 2ms/step - loss: 0.1706 - accuracy: 0.9354 - val_loss: 0.3386 - val_accuracy: 0.8923\n",
            "Epoch 22/25\n",
            "1407/1407 [==============================] - 3s 2ms/step - loss: 0.1653 - accuracy: 0.9378 - val_loss: 0.3496 - val_accuracy: 0.8912\n",
            "Epoch 23/25\n",
            "1407/1407 [==============================] - 3s 2ms/step - loss: 0.1615 - accuracy: 0.9390 - val_loss: 0.3472 - val_accuracy: 0.8895\n",
            "Epoch 24/25\n",
            "1407/1407 [==============================] - 3s 2ms/step - loss: 0.1575 - accuracy: 0.9402 - val_loss: 0.3635 - val_accuracy: 0.8879\n",
            "Epoch 25/25\n",
            "1407/1407 [==============================] - 3s 2ms/step - loss: 0.1508 - accuracy: 0.9441 - val_loss: 0.3715 - val_accuracy: 0.8853\n"
          ],
          "name": "stdout"
        }
      ]
    },
    {
      "cell_type": "code",
      "metadata": {
        "id": "Bqw1MVtZ8VUP",
        "colab_type": "code",
        "colab": {
          "base_uri": "https://localhost:8080/",
          "height": 283
        },
        "outputId": "766ab3ae-dc8b-497c-8d99-0c5ea7b4e71d"
      },
      "source": [
        "# 예제 5.24 : Fashion MNIST 분류 모델의 학습 결과 시각화\n",
        "import matplotlib.pyplot as plt\n",
        "plt.figure(figsize = (12, 4))\n",
        "\n",
        "plt.subplot(1, 2, 1)\n",
        "plt.plot(history.history['loss'], 'b-', label = 'loss')\n",
        "plt.plot(history.history['val_loss'], 'r--', label = 'val_loss')\n",
        "plt.xlabel('Epoch')\n",
        "plt.legend()\n",
        "\n",
        "plt.subplot(1, 2, 2)\n",
        "plt.plot(history.history['accuracy'], 'g-', label = 'accuracy')\n",
        "plt.plot(history.history['val_accuracy'], 'k--', label = 'val_accuracy')\n",
        "plt.xlabel('Epoch')\n",
        "plt.ylim(0.7, 1)\n",
        "plt.legend()\n",
        "\n",
        "plt.show()"
      ],
      "execution_count": 7,
      "outputs": [
        {
          "output_type": "display_data",
          "data": {
            "image/png": "[encoded data removed]",
            "text/plain": [
              "<Figure size 864x288 with 2 Axes>"
            ]
          },
          "metadata": {
            "tags": [],
            "needs_background": "light"
          }
        }
      ]
    },
    {
      "cell_type": "code",
      "metadata": {
        "id": "sZInH2lE9CSt",
        "colab_type": "code",
        "colab": {
          "base_uri": "https://localhost:8080/",
          "height": 51
        },
        "outputId": "fc66f787-8bf2-439c-8f1c-9f86f9746476"
      },
      "source": [
        "# 예제 5.25 : Fashion MNIST 분류 모델 평가\n",
        "model.evaluate(test_X, test_Y)"
      ],
      "execution_count": 8,
      "outputs": [
        {
          "output_type": "stream",
          "text": [
            "313/313 [==============================] - 0s 1ms/step - loss: 0.4027 - accuracy: 0.8829\n"
          ],
          "name": "stdout"
        },
        {
          "output_type": "execute_result",
          "data": {
            "text/plain": [
              "[0.4027363955974579, 0.8828999996185303]"
            ]
          },
          "metadata": {
            "tags": []
          },
          "execution_count": 8
        }
      ]
    }
  ]
}
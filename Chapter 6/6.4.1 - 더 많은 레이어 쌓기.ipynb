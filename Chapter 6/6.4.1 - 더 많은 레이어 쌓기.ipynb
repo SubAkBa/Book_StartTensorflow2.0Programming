{
  "nbformat": 4,
  "nbformat_minor": 0,
  "metadata": {
    "colab": {
      "name": "6.4.1 - 더 많은 레이어 쌓기",
      "provenance": [],
      "collapsed_sections": []
    },
    "kernelspec": {
      "name": "python3",
      "display_name": "Python 3"
    },
    "accelerator": "GPU"
  },
  "cells": [
    {
      "cell_type": "code",
      "metadata": {
        "id": "l6HCiWUtxcQO",
        "colab_type": "code",
        "colab": {
          "base_uri": "https://localhost:8080/",
          "height": 153
        },
        "outputId": "46509833-17c9-4a43-ff84-978be732f25e"
      },
      "source": [
        "import tensorflow as tf\n",
        "fashion_mnist = tf.keras.datasets.fashion_mnist\n",
        "\n",
        "(train_X, train_Y), (test_X, test_Y) = fashion_mnist.load_data()\n",
        "\n",
        "train_X = train_X / 255.0\n",
        "test_X = test_X / 255.0\n",
        "\n",
        "train_X = train_X.reshape(-1, 28, 28, 1)\n",
        "test_X = test_X.reshape(-1, 28, 28, 1)"
      ],
      "execution_count": 1,
      "outputs": [
        {
          "output_type": "stream",
          "text": [
            "Downloading data from https://storage.googleapis.com/tensorflow/tf-keras-datasets/train-labels-idx1-ubyte.gz\n",
            "32768/29515 [=================================] - 0s 0us/step\n",
            "Downloading data from https://storage.googleapis.com/tensorflow/tf-keras-datasets/train-images-idx3-ubyte.gz\n",
            "26427392/26421880 [==============================] - 0s 0us/step\n",
            "Downloading data from https://storage.googleapis.com/tensorflow/tf-keras-datasets/t10k-labels-idx1-ubyte.gz\n",
            "8192/5148 [===============================================] - 0s 0us/step\n",
            "Downloading data from https://storage.googleapis.com/tensorflow/tf-keras-datasets/t10k-images-idx3-ubyte.gz\n",
            "4423680/4422102 [==============================] - 0s 0us/step\n"
          ],
          "name": "stdout"
        }
      ]
    },
    {
      "cell_type": "code",
      "metadata": {
        "id": "VrspZD4nvki1",
        "colab_type": "code",
        "outputId": "1291102e-162f-4af1-f7b4-2846a3f122ab",
        "colab": {
          "base_uri": "https://localhost:8080/",
          "height": 629
        }
      },
      "source": [
        "# 예제 6.12 : VGGNet 스타일의 Fashion MNIST 분류를 위한 컨볼루션 신경망 모델 정의\n",
        "model = tf.keras.Sequential([\n",
        "                             tf.keras.layers.Conv2D(input_shape = (28, 28, 1), kernel_size = (3, 3), filters = 32, padding = 'same', activation = 'relu'),\n",
        "                             tf.keras.layers.Conv2D(kernel_size = (3, 3), filters = 64, padding = 'same', activation = 'relu'),\n",
        "                             tf.keras.layers.MaxPool2D(pool_size = (2, 2)),\n",
        "                             tf.keras.layers.Dropout(rate = 0.5),\n",
        "                             tf.keras.layers.Conv2D(kernel_size = (3, 3), filters = 128, padding = 'same', activation = 'relu'),\n",
        "                             tf.keras.layers.Conv2D(kernel_size = (3, 3), filters = 256, padding = 'valid', activation = 'relu'),\n",
        "                             tf.keras.layers.MaxPool2D(pool_size = (2, 2)),\n",
        "                             tf.keras.layers.Dropout(rate = 0.5),\n",
        "                             tf.keras.layers.Flatten(),\n",
        "                             tf.keras.layers.Dense(units = 512, activation = 'relu'),\n",
        "                             tf.keras.layers.Dropout(rate = 0.5),\n",
        "                             tf.keras.layers.Dense(units = 256, activation = 'relu'),\n",
        "                             tf.keras.layers.Dropout(rate = 0.5),\n",
        "                             tf.keras.layers.Dense(units = 10, activation = 'softmax')\n",
        "])\n",
        "\n",
        "model.compile(optimizer = tf.keras.optimizers.Adam(), loss = 'sparse_categorical_crossentropy', metrics = ['accuracy'])\n",
        "\n",
        "model.summary()"
      ],
      "execution_count": 2,
      "outputs": [
        {
          "output_type": "stream",
          "text": [
            "Model: \"sequential\"\n",
            "_________________________________________________________________\n",
            "Layer (type)                 Output Shape              Param #   \n",
            "=================================================================\n",
            "conv2d (Conv2D)              (None, 28, 28, 32)        320       \n",
            "_________________________________________________________________\n",
            "conv2d_1 (Conv2D)            (None, 28, 28, 64)        18496     \n",
            "_________________________________________________________________\n",
            "max_pooling2d (MaxPooling2D) (None, 14, 14, 64)        0         \n",
            "_________________________________________________________________\n",
            "dropout (Dropout)            (None, 14, 14, 64)        0         \n",
            "_________________________________________________________________\n",
            "conv2d_2 (Conv2D)            (None, 14, 14, 128)       73856     \n",
            "_________________________________________________________________\n",
            "conv2d_3 (Conv2D)            (None, 12, 12, 256)       295168    \n",
            "_________________________________________________________________\n",
            "max_pooling2d_1 (MaxPooling2 (None, 6, 6, 256)         0         \n",
            "_________________________________________________________________\n",
            "dropout_1 (Dropout)          (None, 6, 6, 256)         0         \n",
            "_________________________________________________________________\n",
            "flatten (Flatten)            (None, 9216)              0         \n",
            "_________________________________________________________________\n",
            "dense (Dense)                (None, 512)               4719104   \n",
            "_________________________________________________________________\n",
            "dropout_2 (Dropout)          (None, 512)               0         \n",
            "_________________________________________________________________\n",
            "dense_1 (Dense)              (None, 256)               131328    \n",
            "_________________________________________________________________\n",
            "dropout_3 (Dropout)          (None, 256)               0         \n",
            "_________________________________________________________________\n",
            "dense_2 (Dense)              (None, 10)                2570      \n",
            "=================================================================\n",
            "Total params: 5,240,842\n",
            "Trainable params: 5,240,842\n",
            "Non-trainable params: 0\n",
            "_________________________________________________________________\n"
          ],
          "name": "stdout"
        }
      ]
    },
    {
      "cell_type": "code",
      "metadata": {
        "id": "k-XfFQ1Vxi2c",
        "colab_type": "code",
        "outputId": "8573677f-d6fe-44e1-8ea4-9534897db92f",
        "colab": {
          "base_uri": "https://localhost:8080/",
          "height": 867
        }
      },
      "source": [
        "history = model.fit(train_X, train_Y, epochs = 25, validation_split = 0.25)"
      ],
      "execution_count": 3,
      "outputs": [
        {
          "output_type": "stream",
          "text": [
            "Epoch 1/25\n",
            "1407/1407 [==============================] - 9s 6ms/step - loss: 0.6005 - accuracy: 0.7810 - val_loss: 0.3747 - val_accuracy: 0.8585\n",
            "Epoch 2/25\n",
            "1407/1407 [==============================] - 8s 6ms/step - loss: 0.3706 - accuracy: 0.8664 - val_loss: 0.2811 - val_accuracy: 0.8964\n",
            "Epoch 3/25\n",
            "1407/1407 [==============================] - 9s 6ms/step - loss: 0.3271 - accuracy: 0.8826 - val_loss: 0.2630 - val_accuracy: 0.9004\n",
            "Epoch 4/25\n",
            "1407/1407 [==============================] - 8s 6ms/step - loss: 0.3003 - accuracy: 0.8924 - val_loss: 0.2620 - val_accuracy: 0.9037\n",
            "Epoch 5/25\n",
            "1407/1407 [==============================] - 8s 6ms/step - loss: 0.2862 - accuracy: 0.8977 - val_loss: 0.2342 - val_accuracy: 0.9137\n",
            "Epoch 6/25\n",
            "1407/1407 [==============================] - 8s 6ms/step - loss: 0.2768 - accuracy: 0.9004 - val_loss: 0.2350 - val_accuracy: 0.9120\n",
            "Epoch 7/25\n",
            "1407/1407 [==============================] - 9s 6ms/step - loss: 0.2675 - accuracy: 0.9046 - val_loss: 0.2715 - val_accuracy: 0.8987\n",
            "Epoch 8/25\n",
            "1407/1407 [==============================] - 9s 6ms/step - loss: 0.2638 - accuracy: 0.9046 - val_loss: 0.2174 - val_accuracy: 0.9215\n",
            "Epoch 9/25\n",
            "1407/1407 [==============================] - 9s 6ms/step - loss: 0.2562 - accuracy: 0.9088 - val_loss: 0.2299 - val_accuracy: 0.9168\n",
            "Epoch 10/25\n",
            "1407/1407 [==============================] - 9s 6ms/step - loss: 0.2515 - accuracy: 0.9092 - val_loss: 0.2527 - val_accuracy: 0.9085\n",
            "Epoch 11/25\n",
            "1407/1407 [==============================] - 9s 6ms/step - loss: 0.2499 - accuracy: 0.9095 - val_loss: 0.2127 - val_accuracy: 0.9235\n",
            "Epoch 12/25\n",
            "1407/1407 [==============================] - 8s 6ms/step - loss: 0.2511 - accuracy: 0.9092 - val_loss: 0.2089 - val_accuracy: 0.9227\n",
            "Epoch 13/25\n",
            "1407/1407 [==============================] - 8s 6ms/step - loss: 0.2395 - accuracy: 0.9140 - val_loss: 0.2027 - val_accuracy: 0.9273\n",
            "Epoch 14/25\n",
            "1407/1407 [==============================] - 8s 6ms/step - loss: 0.2453 - accuracy: 0.9133 - val_loss: 0.2242 - val_accuracy: 0.9203\n",
            "Epoch 15/25\n",
            "1407/1407 [==============================] - 8s 6ms/step - loss: 0.2395 - accuracy: 0.9148 - val_loss: 0.2034 - val_accuracy: 0.9268\n",
            "Epoch 16/25\n",
            "1407/1407 [==============================] - 8s 6ms/step - loss: 0.2370 - accuracy: 0.9149 - val_loss: 0.2171 - val_accuracy: 0.9226\n",
            "Epoch 17/25\n",
            "1407/1407 [==============================] - 8s 6ms/step - loss: 0.2342 - accuracy: 0.9155 - val_loss: 0.2166 - val_accuracy: 0.9211\n",
            "Epoch 18/25\n",
            "1407/1407 [==============================] - 8s 6ms/step - loss: 0.2340 - accuracy: 0.9159 - val_loss: 0.2088 - val_accuracy: 0.9260\n",
            "Epoch 19/25\n",
            "1407/1407 [==============================] - 9s 6ms/step - loss: 0.2373 - accuracy: 0.9165 - val_loss: 0.2056 - val_accuracy: 0.9249\n",
            "Epoch 20/25\n",
            "1407/1407 [==============================] - 9s 6ms/step - loss: 0.2317 - accuracy: 0.9171 - val_loss: 0.2025 - val_accuracy: 0.9269\n",
            "Epoch 21/25\n",
            "1407/1407 [==============================] - 8s 6ms/step - loss: 0.2276 - accuracy: 0.9174 - val_loss: 0.2033 - val_accuracy: 0.9278\n",
            "Epoch 22/25\n",
            "1407/1407 [==============================] - 8s 6ms/step - loss: 0.2299 - accuracy: 0.9185 - val_loss: 0.1935 - val_accuracy: 0.9301\n",
            "Epoch 23/25\n",
            "1407/1407 [==============================] - 9s 6ms/step - loss: 0.2310 - accuracy: 0.9182 - val_loss: 0.2037 - val_accuracy: 0.9253\n",
            "Epoch 24/25\n",
            "1407/1407 [==============================] - 9s 6ms/step - loss: 0.2303 - accuracy: 0.9186 - val_loss: 0.2038 - val_accuracy: 0.9284\n",
            "Epoch 25/25\n",
            "1407/1407 [==============================] - 8s 6ms/step - loss: 0.2293 - accuracy: 0.9198 - val_loss: 0.1948 - val_accuracy: 0.9276\n"
          ],
          "name": "stdout"
        }
      ]
    },
    {
      "cell_type": "code",
      "metadata": {
        "id": "Xdx07DxsyShQ",
        "colab_type": "code",
        "colab": {
          "base_uri": "https://localhost:8080/",
          "height": 317
        },
        "outputId": "c89790d4-e120-424d-87ce-4eb2fe65126e"
      },
      "source": [
        "import matplotlib.pyplot as plt\n",
        "\n",
        "plt.figure(figsize = (12, 4))\n",
        "\n",
        "plt.subplot(1, 2, 1)\n",
        "plt.plot(history.history['loss'], 'b-', label = 'loss')\n",
        "plt.plot(history.history['val_loss'], 'r--', label = 'val_loss')\n",
        "plt.xlabel('Epoch')\n",
        "plt.legend()\n",
        "\n",
        "plt.subplot(1, 2, 2)\n",
        "plt.plot(history.history['accuracy'], 'g-', label = 'accuracy')\n",
        "plt.plot(history.history['val_accuracy'], 'k--', label = 'val_accuracy')\n",
        "plt.xlabel('Epoch')\n",
        "plt.ylim(0.7, 1)\n",
        "plt.legend()\n",
        "\n",
        "plt.show()\n",
        "\n",
        "model.evaluate(test_X, test_Y)"
      ],
      "execution_count": 5,
      "outputs": [
        {
          "output_type": "display_data",
          "data": {
            "image/png": "[encoded data removed]",
            "text/plain": [
              "<Figure size 864x288 with 2 Axes>"
            ]
          },
          "metadata": {
            "tags": [],
            "needs_background": "light"
          }
        },
        {
          "output_type": "stream",
          "text": [
            "313/313 [==============================] - 1s 3ms/step - loss: 0.2100 - accuracy: 0.9263\n"
          ],
          "name": "stdout"
        },
        {
          "output_type": "execute_result",
          "data": {
            "text/plain": [
              "[0.20998382568359375, 0.9262999892234802]"
            ]
          },
          "metadata": {
            "tags": []
          },
          "execution_count": 5
        }
      ]
    }
  ]
}
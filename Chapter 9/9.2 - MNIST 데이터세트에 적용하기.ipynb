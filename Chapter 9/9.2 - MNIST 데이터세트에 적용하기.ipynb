{
  "nbformat": 4,
  "nbformat_minor": 0,
  "metadata": {
    "colab": {
      "name": "9.2 - MNIST 데이터세트에 적용하기",
      "provenance": [],
      "collapsed_sections": []
    },
    "kernelspec": {
      "name": "python3",
      "display_name": "Python 3"
    },
    "accelerator": "GPU"
  },
  "cells": [
    {
      "cell_type": "code",
      "metadata": {
        "id": "iZuv78IH7Oyd",
        "colab_type": "code",
        "colab": {
          "base_uri": "https://localhost:8080/",
          "height": 68
        },
        "outputId": "38cafa16-4948-414d-8735-2afe981c69be"
      },
      "source": [
        "# 예제 9.1 : MNIST 데이터세트 불러오기\n",
        "import tensorflow as tf\n",
        "\n",
        "(train_X, train_Y), (test_X, test_Y) = tf.keras.datasets.mnist.load_data()\n",
        "print(train_X.shape, train_Y.shape)\n",
        "\n",
        "train_X = train_X / 255.0\n",
        "test_X = test_X / 255.0"
      ],
      "execution_count": 1,
      "outputs": [
        {
          "output_type": "stream",
          "text": [
            "Downloading data from https://storage.googleapis.com/tensorflow/tf-keras-datasets/mnist.npz\n",
            "11493376/11490434 [==============================] - 0s 0us/step\n",
            "(60000, 28, 28) (60000,)\n"
          ],
          "name": "stdout"
        }
      ]
    },
    {
      "cell_type": "code",
      "metadata": {
        "id": "4Ld44yAOAnKV",
        "colab_type": "code",
        "colab": {
          "base_uri": "https://localhost:8080/",
          "height": 286
        },
        "outputId": "e5e716ac-2c5e-41e2-9fce-5ffbb48a107d"
      },
      "source": [
        "# 예제 9.2 : MNIST 데이터세트 확인\n",
        "import matplotlib.pyplot as plt\n",
        "plt.imshow(train_X[0].reshape(28, 28), cmap = 'gray')\n",
        "plt.colorbar()\n",
        "plt.show()\n",
        "\n",
        "print(train_Y[0])"
      ],
      "execution_count": 2,
      "outputs": [
        {
          "output_type": "display_data",
          "data": {
            "image/png": "[encoded data removed]",
            "text/plain": [
              "<Figure size 432x288 with 2 Axes>"
            ]
          },
          "metadata": {
            "tags": [],
            "needs_background": "light"
          }
        },
        {
          "output_type": "stream",
          "text": [
            "5\n"
          ],
          "name": "stdout"
        }
      ]
    },
    {
      "cell_type": "code",
      "metadata": {
        "id": "Kqco9WDZA20x",
        "colab_type": "code",
        "colab": {
          "base_uri": "https://localhost:8080/",
          "height": 272
        },
        "outputId": "6e56fd5e-c03f-4e78-81e4-37ac65d89234"
      },
      "source": [
        "# 예제 9.3 : Dense 오토인코더 모델 정의\n",
        "train_X = train_X.reshape(-1, 28 * 28)\n",
        "test_X = test_X.reshape(-1, 28 * 28)\n",
        "print(train_X.shape, train_Y.shape)\n",
        "\n",
        "model = tf.keras.Sequential([\n",
        "                             tf.keras.layers.Dense(784, activation = \"relu\", input_shape = (784, )),\n",
        "                             tf.keras.layers.Dense(64, activation = \"relu\"),\n",
        "                             tf.keras.layers.Dense(784, activation = 'sigmoid')\n",
        "])\n",
        "\n",
        "model.compile(optimizer = 'adam', loss = 'mse')\n",
        "model.summary()"
      ],
      "execution_count": 3,
      "outputs": [
        {
          "output_type": "stream",
          "text": [
            "(60000, 784) (60000,)\n",
            "Model: \"sequential\"\n",
            "_________________________________________________________________\n",
            "Layer (type)                 Output Shape              Param #   \n",
            "=================================================================\n",
            "dense (Dense)                (None, 784)               615440    \n",
            "_________________________________________________________________\n",
            "dense_1 (Dense)              (None, 64)                50240     \n",
            "_________________________________________________________________\n",
            "dense_2 (Dense)              (None, 784)               50960     \n",
            "=================================================================\n",
            "Total params: 716,640\n",
            "Trainable params: 716,640\n",
            "Non-trainable params: 0\n",
            "_________________________________________________________________\n"
          ],
          "name": "stdout"
        }
      ]
    },
    {
      "cell_type": "code",
      "metadata": {
        "id": "THAwF0_uBYeE",
        "colab_type": "code",
        "colab": {
          "base_uri": "https://localhost:8080/",
          "height": 374
        },
        "outputId": "e9e928af-8126-4210-ee40-51c207d4a06b"
      },
      "source": [
        "# 예제 9.4 : Dense 오토인코더 모델 학습\n",
        "model.fit(train_X, train_X, epochs = 10, batch_size = 256)"
      ],
      "execution_count": 5,
      "outputs": [
        {
          "output_type": "stream",
          "text": [
            "Epoch 1/10\n",
            "235/235 [==============================] - 1s 3ms/step - loss: 0.0509\n",
            "Epoch 2/10\n",
            "235/235 [==============================] - 1s 3ms/step - loss: 0.0176\n",
            "Epoch 3/10\n",
            "235/235 [==============================] - 1s 3ms/step - loss: 0.0122\n",
            "Epoch 4/10\n",
            "235/235 [==============================] - 1s 3ms/step - loss: 0.0101\n",
            "Epoch 5/10\n",
            "235/235 [==============================] - 1s 3ms/step - loss: 0.0089\n",
            "Epoch 6/10\n",
            "235/235 [==============================] - 1s 3ms/step - loss: 0.0081\n",
            "Epoch 7/10\n",
            "235/235 [==============================] - 1s 3ms/step - loss: 0.0075\n",
            "Epoch 8/10\n",
            "235/235 [==============================] - 1s 3ms/step - loss: 0.0071\n",
            "Epoch 9/10\n",
            "235/235 [==============================] - 1s 3ms/step - loss: 0.0067\n",
            "Epoch 10/10\n",
            "235/235 [==============================] - 1s 3ms/step - loss: 0.0064\n"
          ],
          "name": "stdout"
        },
        {
          "output_type": "execute_result",
          "data": {
            "text/plain": [
              "<tensorflow.python.keras.callbacks.History at 0x7f3c8c894a90>"
            ]
          },
          "metadata": {
            "tags": []
          },
          "execution_count": 5
        }
      ]
    },
    {
      "cell_type": "code",
      "metadata": {
        "id": "qvMUnt5pBsoZ",
        "colab_type": "code",
        "colab": {
          "base_uri": "https://localhost:8080/",
          "height": 500
        },
        "outputId": "8f9a9d42-e248-416a-a3ef-74f42bad1648"
      },
      "source": [
        "# 예제 9.5 : 테스트 데이터로 Dense 오토인코더의 이미지 재생성\n",
        "import random\n",
        "import numpy as np\n",
        "\n",
        "plt.figure(figsize = (4, 8))\n",
        "\n",
        "for c in range(4):\n",
        "  plt.subplot(4, 2, c * 2 + 1)\n",
        "  rand_index = random.randint(0, test_X.shape[0])\n",
        "  plt.imshow(test_X[rand_index].reshape(28, 28), cmap = 'gray')\n",
        "  plt.axis('off')\n",
        "\n",
        "  plt.subplot(4, 2, c * 2 + 2)\n",
        "  img = model.predict(np.expand_dims(test_X[rand_index], axis = 0))\n",
        "  plt.imshow(img.reshape(28, 28), cmap = 'gray')\n",
        "  plt.axis('off')\n",
        "\n",
        "plt.show()\n",
        "\n",
        "model.evaluate(test_X, test_X)"
      ],
      "execution_count": 7,
      "outputs": [
        {
          "output_type": "display_data",
          "data": {
            "image/png": "[encoded data removed]",
            "text/plain": [
              "<Figure size 288x576 with 8 Axes>"
            ]
          },
          "metadata": {
            "tags": [],
            "needs_background": "light"
          }
        },
        {
          "output_type": "stream",
          "text": [
            "313/313 [==============================] - 0s 1ms/step - loss: 0.0061\n"
          ],
          "name": "stdout"
        },
        {
          "output_type": "execute_result",
          "data": {
            "text/plain": [
              "0.006107266992330551"
            ]
          },
          "metadata": {
            "tags": []
          },
          "execution_count": 7
        }
      ]
    },
    {
      "cell_type": "code",
      "metadata": {
        "id": "jHzX_nruCq9-",
        "colab_type": "code",
        "colab": {
          "base_uri": "https://localhost:8080/",
          "height": 425
        },
        "outputId": "d227fce2-4db5-4795-c700-62f1030fd812"
      },
      "source": [
        "# 예제 9.6 : 컨볼루션 오토인코더 모델 정의\n",
        "train_X = train_X.reshape(-1, 28, 28, 1)\n",
        "test_X = test_X.reshape(-1, 28, 28, 1)\n",
        "\n",
        "model = tf.keras.Sequential([\n",
        "                             tf.keras.layers.Conv2D(filters = 32, kernel_size = 2, strides = (2, 2), activation = \"relu\", input_shape = (28, 28, 1)),\n",
        "                             tf.keras.layers.Conv2D(filters = 64, kernel_size = 2, strides = (2, 2), activation = \"relu\"),\n",
        "                             tf.keras.layers.Flatten(),\n",
        "                             tf.keras.layers.Dense(64, activation = \"relu\"),\n",
        "                             tf.keras.layers.Dense(7 * 7 * 64, activation = \"relu\"),\n",
        "                             tf.keras.layers.Reshape(target_shape = (7, 7, 64)),\n",
        "                             tf.keras.layers.Conv2DTranspose(filters = 32, kernel_size = 2, strides = (2, 2), padding = 'same', activation = 'relu'),\n",
        "                             tf.keras.layers.Conv2DTranspose(filters = 1, kernel_size = 2, strides = (2, 2), padding = 'same', activation = 'sigmoid')\n",
        "])\n",
        "\n",
        "model.compile(optimizer = 'adam', loss = 'mse')\n",
        "model.summary()"
      ],
      "execution_count": 12,
      "outputs": [
        {
          "output_type": "stream",
          "text": [
            "Model: \"sequential_2\"\n",
            "_________________________________________________________________\n",
            "Layer (type)                 Output Shape              Param #   \n",
            "=================================================================\n",
            "conv2d_4 (Conv2D)            (None, 14, 14, 32)        160       \n",
            "_________________________________________________________________\n",
            "conv2d_5 (Conv2D)            (None, 7, 7, 64)          8256      \n",
            "_________________________________________________________________\n",
            "flatten_1 (Flatten)          (None, 3136)              0         \n",
            "_________________________________________________________________\n",
            "dense_5 (Dense)              (None, 64)                200768    \n",
            "_________________________________________________________________\n",
            "dense_6 (Dense)              (None, 3136)              203840    \n",
            "_________________________________________________________________\n",
            "reshape_1 (Reshape)          (None, 7, 7, 64)          0         \n",
            "_________________________________________________________________\n",
            "conv2d_transpose_2 (Conv2DTr (None, 14, 14, 32)        8224      \n",
            "_________________________________________________________________\n",
            "conv2d_transpose_3 (Conv2DTr (None, 28, 28, 1)         129       \n",
            "=================================================================\n",
            "Total params: 421,377\n",
            "Trainable params: 421,377\n",
            "Non-trainable params: 0\n",
            "_________________________________________________________________\n"
          ],
          "name": "stdout"
        }
      ]
    },
    {
      "cell_type": "code",
      "metadata": {
        "id": "hkV9mzJQDsJ8",
        "colab_type": "code",
        "colab": {
          "base_uri": "https://localhost:8080/",
          "height": 714
        },
        "outputId": "c3559e20-0e14-465a-fd82-953534cee6b2"
      },
      "source": [
        "# 예제 9.7 : 컨볼루션 오토인코더 모델 학습\n",
        "model.fit(train_X, train_X, epochs = 20, batch_size = 256)"
      ],
      "execution_count": 13,
      "outputs": [
        {
          "output_type": "stream",
          "text": [
            "Epoch 1/20\n",
            "235/235 [==============================] - 2s 7ms/step - loss: 0.0783\n",
            "Epoch 2/20\n",
            "235/235 [==============================] - 2s 6ms/step - loss: 0.0313\n",
            "Epoch 3/20\n",
            "235/235 [==============================] - 1s 6ms/step - loss: 0.0211\n",
            "Epoch 4/20\n",
            "235/235 [==============================] - 2s 7ms/step - loss: 0.0186\n",
            "Epoch 5/20\n",
            "235/235 [==============================] - 2s 7ms/step - loss: 0.0174\n",
            "Epoch 6/20\n",
            "235/235 [==============================] - 2s 7ms/step - loss: 0.0167\n",
            "Epoch 7/20\n",
            "235/235 [==============================] - 2s 6ms/step - loss: 0.0163\n",
            "Epoch 8/20\n",
            "235/235 [==============================] - 1s 6ms/step - loss: 0.0159\n",
            "Epoch 9/20\n",
            "235/235 [==============================] - 2s 6ms/step - loss: 0.0157\n",
            "Epoch 10/20\n",
            "235/235 [==============================] - 2s 6ms/step - loss: 0.0155\n",
            "Epoch 11/20\n",
            "235/235 [==============================] - 2s 7ms/step - loss: 0.0153\n",
            "Epoch 12/20\n",
            "235/235 [==============================] - 1s 6ms/step - loss: 0.0152\n",
            "Epoch 13/20\n",
            "235/235 [==============================] - 2s 7ms/step - loss: 0.0151\n",
            "Epoch 14/20\n",
            "235/235 [==============================] - 2s 6ms/step - loss: 0.0150\n",
            "Epoch 15/20\n",
            "235/235 [==============================] - 2s 6ms/step - loss: 0.0149\n",
            "Epoch 16/20\n",
            "235/235 [==============================] - 1s 6ms/step - loss: 0.0149\n",
            "Epoch 17/20\n",
            "235/235 [==============================] - 2s 6ms/step - loss: 0.0148\n",
            "Epoch 18/20\n",
            "235/235 [==============================] - 2s 7ms/step - loss: 0.0147\n",
            "Epoch 19/20\n",
            "235/235 [==============================] - 2s 7ms/step - loss: 0.0147\n",
            "Epoch 20/20\n",
            "235/235 [==============================] - 2s 6ms/step - loss: 0.0147\n"
          ],
          "name": "stdout"
        },
        {
          "output_type": "execute_result",
          "data": {
            "text/plain": [
              "<tensorflow.python.keras.callbacks.History at 0x7f3c1f65cd68>"
            ]
          },
          "metadata": {
            "tags": []
          },
          "execution_count": 13
        }
      ]
    },
    {
      "cell_type": "code",
      "metadata": {
        "id": "tGR2rKUVFj8S",
        "colab_type": "code",
        "colab": {
          "base_uri": "https://localhost:8080/",
          "height": 500
        },
        "outputId": "a62b7b2e-350a-4bbb-fea4-66dbff954f49"
      },
      "source": [
        "# 예제 9.8 : 테스트 데이터로 컨볼루션 오토인코더의 이미지 재생성\n",
        "import random\n",
        "\n",
        "plt.figure(figsize = (4, 8))\n",
        "for c in range(4):\n",
        "  plt.subplot(4, 2, c * 2 + 1)\n",
        "  rand_index = random.randint(0, test_X.shape[0])\n",
        "  plt.imshow(test_X[rand_index].reshape(28, 28), cmap = 'gray')\n",
        "  plt.axis('off')\n",
        "\n",
        "  plt.subplot(4, 2, c * 2 + 2)\n",
        "  img = model.predict(np.expand_dims(test_X[rand_index], axis = 0))\n",
        "  plt.imshow(img.reshape(28, 28), cmap = 'gray')\n",
        "  plt.axis('off')\n",
        "plt.show()\n",
        "\n",
        "model.evaluate(test_X, test_X)"
      ],
      "execution_count": 16,
      "outputs": [
        {
          "output_type": "display_data",
          "data": {
            "image/png": "[encoded data removed]",
            "text/plain": [
              "<Figure size 288x576 with 8 Axes>"
            ]
          },
          "metadata": {
            "tags": [],
            "needs_background": "light"
          }
        },
        {
          "output_type": "stream",
          "text": [
            "313/313 [==============================] - 1s 2ms/step - loss: 0.0143\n"
          ],
          "name": "stdout"
        },
        {
          "output_type": "execute_result",
          "data": {
            "text/plain": [
              "0.014265983365476131"
            ]
          },
          "metadata": {
            "tags": []
          },
          "execution_count": 16
        }
      ]
    },
    {
      "cell_type": "code",
      "metadata": {
        "id": "L7nOT1zFF_dx",
        "colab_type": "code",
        "colab": {
          "base_uri": "https://localhost:8080/",
          "height": 714
        },
        "outputId": "91cdeb47-aaf0-47cd-c5f8-e6dc8de91a98"
      },
      "source": [
        "# 에제 9.9 : 활성화함수를 elu로 바꾼 컨볼루션 오토인코더 모델의 정의 및 학습\n",
        "train_X = train_X.reshape(-1, 28, 28, 1)\n",
        "test_X = test_X.reshape(-1, 28, 28, 1)\n",
        "\n",
        "model = tf.keras.Sequential([\n",
        "                             tf.keras.layers.Conv2D(filters = 32, kernel_size = 2, strides = (2, 2), activation = 'elu', input_shape = (28, 28, 1)),\n",
        "                             tf.keras.layers.Conv2D(filters = 64, kernel_size = 2, strides = (2, 2), activation = 'elu'),\n",
        "                             tf.keras.layers.Flatten(),\n",
        "                             tf.keras.layers.Dense(64, activation = 'elu'),\n",
        "                             tf.keras.layers.Dense(7 * 7 * 64, activation = 'elu'),\n",
        "                             tf.keras.layers.Reshape(target_shape = (7, 7, 64)),\n",
        "                             tf.keras.layers.Conv2DTranspose(filters = 32, kernel_size = 2, strides = (2, 2), padding = 'same', activation = 'elu'),\n",
        "                             tf.keras.layers.Conv2DTranspose(filters = 1, kernel_size = 2, strides = (2, 2), padding = 'same', activation = 'sigmoid')\n",
        "])\n",
        "\n",
        "model.compile(optimizer = 'adam', loss = 'mse')\n",
        "model.fit(train_X, train_X, epochs = 20, batch_size = 256)"
      ],
      "execution_count": 17,
      "outputs": [
        {
          "output_type": "stream",
          "text": [
            "Epoch 1/20\n",
            "235/235 [==============================] - 2s 7ms/step - loss: 0.0558\n",
            "Epoch 2/20\n",
            "235/235 [==============================] - 2s 7ms/step - loss: 0.0180\n",
            "Epoch 3/20\n",
            "235/235 [==============================] - 2s 6ms/step - loss: 0.0116\n",
            "Epoch 4/20\n",
            "235/235 [==============================] - 2s 6ms/step - loss: 0.0097\n",
            "Epoch 5/20\n",
            "235/235 [==============================] - 2s 6ms/step - loss: 0.0088\n",
            "Epoch 6/20\n",
            "235/235 [==============================] - 2s 6ms/step - loss: 0.0083\n",
            "Epoch 7/20\n",
            "235/235 [==============================] - 2s 6ms/step - loss: 0.0079\n",
            "Epoch 8/20\n",
            "235/235 [==============================] - 2s 7ms/step - loss: 0.0076\n",
            "Epoch 9/20\n",
            "235/235 [==============================] - 2s 7ms/step - loss: 0.0072\n",
            "Epoch 10/20\n",
            "235/235 [==============================] - 2s 6ms/step - loss: 0.0069\n",
            "Epoch 11/20\n",
            "235/235 [==============================] - 2s 6ms/step - loss: 0.0068\n",
            "Epoch 12/20\n",
            "235/235 [==============================] - 2s 6ms/step - loss: 0.0066\n",
            "Epoch 13/20\n",
            "235/235 [==============================] - 2s 7ms/step - loss: 0.0065\n",
            "Epoch 14/20\n",
            "235/235 [==============================] - 2s 6ms/step - loss: 0.0063\n",
            "Epoch 15/20\n",
            "235/235 [==============================] - 2s 6ms/step - loss: 0.0062\n",
            "Epoch 16/20\n",
            "235/235 [==============================] - 2s 7ms/step - loss: 0.0061\n",
            "Epoch 17/20\n",
            "235/235 [==============================] - 2s 6ms/step - loss: 0.0060\n",
            "Epoch 18/20\n",
            "235/235 [==============================] - 2s 7ms/step - loss: 0.0059\n",
            "Epoch 19/20\n",
            "235/235 [==============================] - 2s 7ms/step - loss: 0.0059\n",
            "Epoch 20/20\n",
            "235/235 [==============================] - 2s 6ms/step - loss: 0.0058\n"
          ],
          "name": "stdout"
        },
        {
          "output_type": "execute_result",
          "data": {
            "text/plain": [
              "<tensorflow.python.keras.callbacks.History at 0x7f3c1e11f780>"
            ]
          },
          "metadata": {
            "tags": []
          },
          "execution_count": 17
        }
      ]
    },
    {
      "cell_type": "code",
      "metadata": {
        "id": "Or7J2f-RHz6Y",
        "colab_type": "code",
        "colab": {
          "base_uri": "https://localhost:8080/",
          "height": 500
        },
        "outputId": "d1061a0a-d5ac-4d02-9fbe-379c844a401a"
      },
      "source": [
        "# 예제 9.10 : 테스트 데이터로 컨볼루션 오토인코더의 이미지 재생성\n",
        "import random\n",
        "\n",
        "plt.figure(figsize = (4, 8))\n",
        "for c in range(4):\n",
        "  plt.subplot(4, 2, c * 2 + 1)\n",
        "  rand_index = random.randint(0, test_X.shape[0])\n",
        "  plt.imshow(test_X[rand_index].reshape(28, 28), cmap = 'gray')\n",
        "  plt.axis('off')\n",
        "\n",
        "  plt.subplot(4, 2, c * 2 + 2)\n",
        "  img = model.predict(np.expand_dims(test_X[rand_index], axis = 0))\n",
        "  plt.imshow(img.reshape(28, 28), cmap = 'gray')\n",
        "  plt.axis('off')\n",
        "plt.show()\n",
        "\n",
        "model.evaluate(test_X, test_X)"
      ],
      "execution_count": 18,
      "outputs": [
        {
          "output_type": "display_data",
          "data": {
            "image/png": "[encoded data removed]",
            "text/plain": [
              "<Figure size 288x576 with 8 Axes>"
            ]
          },
          "metadata": {
            "tags": [],
            "needs_background": "light"
          }
        },
        {
          "output_type": "stream",
          "text": [
            "313/313 [==============================] - 1s 2ms/step - loss: 0.0057\n"
          ],
          "name": "stdout"
        },
        {
          "output_type": "execute_result",
          "data": {
            "text/plain": [
              "0.005729382857680321"
            ]
          },
          "metadata": {
            "tags": []
          },
          "execution_count": 18
        }
      ]
    }
  ]
}